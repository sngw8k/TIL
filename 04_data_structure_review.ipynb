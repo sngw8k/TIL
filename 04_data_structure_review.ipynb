{
 "cells": [
  {
   "cell_type": "code",
   "execution_count": 1,
   "id": "c0ba1097-a633-424c-8f8e-4621696475e8",
   "metadata": {},
   "outputs": [
    {
     "data": {
      "text/plain": [
       "'123'"
      ]
     },
     "execution_count": 1,
     "metadata": {},
     "output_type": "execute_result"
    }
   ],
   "source": [
    "# 리스트 요소를 ''사이의 구분자와 함께 합치기\n",
    "\n",
    "''.join(['1', '2', '3'])"
   ]
  },
  {
   "cell_type": "markdown",
   "id": "5ba0303b-8132-49c7-af2e-06f005082781",
   "metadata": {},
   "source": [
    "## 1. 문자열 메소드"
   ]
  },
  {
   "cell_type": "code",
   "execution_count": 2,
   "id": "bdaab3cf-4941-4f1d-b8d7-2a89dc195a6d",
   "metadata": {},
   "outputs": [],
   "source": [
    "a = 'hello my name is'"
   ]
  },
  {
   "cell_type": "code",
   "execution_count": 3,
   "id": "effeadeb-07ce-4895-a6ee-eb9b854b168b",
   "metadata": {},
   "outputs": [
    {
     "ename": "TypeError",
     "evalue": "'str' object does not support item assignment",
     "output_type": "error",
     "traceback": [
      "\u001b[1;31m---------------------------------------------------------------------------\u001b[0m",
      "\u001b[1;31mTypeError\u001b[0m                                 Traceback (most recent call last)",
      "Cell \u001b[1;32mIn[3], line 2\u001b[0m\n\u001b[0;32m      1\u001b[0m \u001b[38;5;66;03m# str은 immutable\u001b[39;00m\n\u001b[1;32m----> 2\u001b[0m \u001b[43ma\u001b[49m\u001b[43m[\u001b[49m\u001b[38;5;241;43m0\u001b[39;49m\u001b[43m]\u001b[49m \u001b[38;5;241m=\u001b[39m \u001b[38;5;124m'\u001b[39m\u001b[38;5;124mH\u001b[39m\u001b[38;5;124m'\u001b[39m\n",
      "\u001b[1;31mTypeError\u001b[0m: 'str' object does not support item assignment"
     ]
    }
   ],
   "source": [
    "# str은 immutable\n",
    "a[0] = 'H'"
   ]
  },
  {
   "cell_type": "code",
   "execution_count": 6,
   "id": "8a347b13-98c2-480f-b1f5-9e8be9788338",
   "metadata": {},
   "outputs": [
    {
     "name": "stdout",
     "output_type": "stream",
     "text": [
      "Hello my name is\n",
      "hello my name is\n"
     ]
    }
   ],
   "source": [
    "# capitalize() - 첫 번째 텍스트를 대문자로\n",
    "# capitalize() 함수는 원본을 바꾸지 않는다\n",
    "\n",
    "print(a.capitalize())\n",
    "print(a)"
   ]
  },
  {
   "cell_type": "code",
   "execution_count": 8,
   "id": "e7bae1d5-1db4-4869-a877-ec0e90135b73",
   "metadata": {},
   "outputs": [
    {
     "name": "stdout",
     "output_type": "stream",
     "text": [
      "Hello My Name Is\n",
      "hello my name is\n"
     ]
    }
   ],
   "source": [
    "print(a.title())\n",
    "print(a)"
   ]
  },
  {
   "cell_type": "code",
   "execution_count": 9,
   "id": "68cb622e-588f-439d-99dc-41f1c4da9fbf",
   "metadata": {},
   "outputs": [
    {
     "name": "stdout",
     "output_type": "stream",
     "text": [
      "HELLO MY NAME IS\n",
      "hello my name is\n"
     ]
    }
   ],
   "source": [
    "print(a.upper())\n",
    "print(a)"
   ]
  },
  {
   "cell_type": "code",
   "execution_count": 10,
   "id": "73de37f2-987c-4ba3-a225-a69563b95619",
   "metadata": {},
   "outputs": [
    {
     "data": {
      "text/plain": [
       "'hi,my,name'"
      ]
     },
     "execution_count": 10,
     "metadata": {},
     "output_type": "execute_result"
    }
   ],
   "source": [
    "#''.join(iterable)\n",
    "\n",
    "my_list = ['hi', 'my', 'name']\n",
    "','.join(my_list)"
   ]
  },
  {
   "cell_type": "code",
   "execution_count": 15,
   "id": "09cb7022-b8ac-427e-8397-42db3f5c330f",
   "metadata": {},
   "outputs": [
    {
     "data": {
      "text/plain": [
       "'w!!!!!ooooow'"
      ]
     },
     "execution_count": 15,
     "metadata": {},
     "output_type": "execute_result"
    }
   ],
   "source": [
    "# .replace(old, new[, count])\n",
    "# 앞에서부터 count 개수만큼 변환\n",
    "'woooooooooow'.replace('o', '!', 5)"
   ]
  },
  {
   "cell_type": "code",
   "execution_count": 17,
   "id": "bf7b3dfe-2526-4105-b67c-9b76cddc1e7e",
   "metadata": {},
   "outputs": [
    {
     "name": "stdout",
     "output_type": "stream",
     "text": [
      "     hello\n",
      "\n",
      "hello\n",
      "ello\n",
      "ellohihihihi\n",
      "hihihihihello\n"
     ]
    }
   ],
   "source": [
    "# .strip([chars])\n",
    "my_string = '     hello\\n'\n",
    "print(my_string)\n",
    "print(my_string.strip())   # 공백 제거\n",
    "\n",
    "my_string2 = 'hihihihihellohihihihi'\n",
    "print(my_string2.strip('hi'))\n",
    "print(my_string2.lstrip('hi'))\n",
    "print(my_string2.rstrip('hi'))"
   ]
  },
  {
   "cell_type": "code",
   "execution_count": 18,
   "id": "92362ebe-d62c-4c8a-aea8-9b806cada4f9",
   "metadata": {},
   "outputs": [
    {
     "name": "stdout",
     "output_type": "stream",
     "text": [
      "3\n",
      "-1\n",
      "1\n",
      "2\n"
     ]
    }
   ],
   "source": [
    "# .find(x) - 있으면 인덱스 찾아서 반환/ 없으면 -1\n",
    "\n",
    "a = 'apple'\n",
    "print(a.find('l'))\n",
    "print(a.find('z'))\n",
    "\n",
    "# 중복되는 인자를 모두 출력하고 싶을 때\n",
    "for i in range(len(a)):\n",
    "    if 'p' == a[i]:\n",
    "        print(i)"
   ]
  },
  {
   "cell_type": "code",
   "execution_count": 19,
   "id": "557c0c65-d0d8-45e8-9a72-e4d225b04038",
   "metadata": {},
   "outputs": [
    {
     "name": "stdout",
     "output_type": "stream",
     "text": [
      "3\n"
     ]
    },
    {
     "ename": "ValueError",
     "evalue": "substring not found",
     "output_type": "error",
     "traceback": [
      "\u001b[1;31m---------------------------------------------------------------------------\u001b[0m",
      "\u001b[1;31mValueError\u001b[0m                                Traceback (most recent call last)",
      "Cell \u001b[1;32mIn[19], line 4\u001b[0m\n\u001b[0;32m      2\u001b[0m a \u001b[38;5;241m=\u001b[39m \u001b[38;5;124m'\u001b[39m\u001b[38;5;124mapple\u001b[39m\u001b[38;5;124m'\u001b[39m\n\u001b[0;32m      3\u001b[0m \u001b[38;5;28mprint\u001b[39m(a\u001b[38;5;241m.\u001b[39mindex(\u001b[38;5;124m'\u001b[39m\u001b[38;5;124ml\u001b[39m\u001b[38;5;124m'\u001b[39m))\n\u001b[1;32m----> 4\u001b[0m \u001b[38;5;28mprint\u001b[39m(\u001b[43ma\u001b[49m\u001b[38;5;241;43m.\u001b[39;49m\u001b[43mindex\u001b[49m\u001b[43m(\u001b[49m\u001b[38;5;124;43m'\u001b[39;49m\u001b[38;5;124;43mz\u001b[39;49m\u001b[38;5;124;43m'\u001b[39;49m\u001b[43m)\u001b[49m)\n",
      "\u001b[1;31mValueError\u001b[0m: substring not found"
     ]
    }
   ],
   "source": [
    "# .index(x) - 없으면 에러\n",
    "a = 'apple'\n",
    "print(a.index('l'))\n",
    "print(a.index('z'))"
   ]
  },
  {
   "cell_type": "code",
   "execution_count": 20,
   "id": "9c68f03b-b54d-4247-a316-d89f617fd242",
   "metadata": {},
   "outputs": [
    {
     "data": {
      "text/plain": [
       "['my', 'name', 'is', 'hong']"
      ]
     },
     "execution_count": 20,
     "metadata": {},
     "output_type": "execute_result"
    }
   ],
   "source": [
    "# .split(x) - x를 기준으로 쪼갬\n",
    "\n",
    "a = 'my_name_is_hong'\n",
    "a.split('_')"
   ]
  },
  {
   "cell_type": "code",
   "execution_count": 21,
   "id": "e6bd782b-7578-4464-bea9-1669b69a502b",
   "metadata": {},
   "outputs": [
    {
     "data": {
      "text/plain": [
       "7"
      ]
     },
     "execution_count": 21,
     "metadata": {},
     "output_type": "execute_result"
    }
   ],
   "source": [
    "# .count(x) - x의 개수 반환\n",
    "\n",
    "a = 'wooooooow'\n",
    "a.count('o')"
   ]
  },
  {
   "cell_type": "markdown",
   "id": "a6752905-3076-49ff-b204-fbfdde8cd078",
   "metadata": {},
   "source": [
    "## 2. 리스트 메소드"
   ]
  },
  {
   "cell_type": "code",
   "execution_count": 58,
   "id": "e30caf53-94de-4d24-b092-6065623b8886",
   "metadata": {},
   "outputs": [],
   "source": [
    "numbers = [1, 2, 2, 5, 2, 1, 7, 2, 4, 4]"
   ]
  },
  {
   "cell_type": "code",
   "execution_count": 59,
   "id": "e74c79de-14a9-4cdf-8e8f-38d55aec055e",
   "metadata": {},
   "outputs": [
    {
     "name": "stdout",
     "output_type": "stream",
     "text": [
      "[1, 2, 2, 5, 2, 1, 7, 2, 4, 4, 10]\n"
     ]
    }
   ],
   "source": [
    "# .append(x) - 원본에 추가\n",
    "\n",
    "numbers.append(10)\n",
    "print(numbers)"
   ]
  },
  {
   "cell_type": "code",
   "execution_count": 60,
   "id": "7fea091a-2e50-436f-9697-e267b975b462",
   "metadata": {},
   "outputs": [
    {
     "name": "stdout",
     "output_type": "stream",
     "text": [
      "[1, 2, 2, 5, 2, 1, 7, 2, 4, 4, 10, 99, 100]\n",
      "[1, 2, 2, 5, 2, 1, 7, 2, 4, 4, 10, 99, 100, 99, 100]\n"
     ]
    }
   ],
   "source": [
    "# .extend(iterable)\n",
    "\n",
    "a = [99, 100]\n",
    "numbers.extend(a)\n",
    "print(numbers)\n",
    "print(numbers + a)"
   ]
  },
  {
   "cell_type": "code",
   "execution_count": 61,
   "id": "c1103873-83d4-4fd8-82bd-bd476ca7c00d",
   "metadata": {},
   "outputs": [
    {
     "name": "stdout",
     "output_type": "stream",
     "text": [
      "[1, 2, 2, 111, 5, 2, 1, 7, 2, 4, 4, 10, 99, 100]\n"
     ]
    }
   ],
   "source": [
    "# insert(idx, x) - idx 인덱스에 x 추가\n",
    "\n",
    "numbers.insert(3, 111)\n",
    "print(numbers)"
   ]
  },
  {
   "cell_type": "code",
   "execution_count": 62,
   "id": "01feb08f-5e30-480f-8242-a049f54881d3",
   "metadata": {},
   "outputs": [
    {
     "name": "stdout",
     "output_type": "stream",
     "text": [
      "[1, 2, 2, 5, 2, 1, 7, 2, 4, 4, 10, 99, 100]\n"
     ]
    }
   ],
   "source": [
    "# .remove(x) - 리스트 안의 x값 제거\n",
    "\n",
    "numbers.remove(111)\n",
    "print(numbers)"
   ]
  },
  {
   "cell_type": "code",
   "execution_count": 65,
   "id": "e89a7d10-4bee-486c-b769-93150612fc03",
   "metadata": {},
   "outputs": [
    {
     "name": "stdout",
     "output_type": "stream",
     "text": [
      "[1, 2, 2, 5, 2, 1, 7, 2, 4, 4]\n"
     ]
    }
   ],
   "source": [
    "# .pop([idx]) - idx 안적으면 맨뒤 제거\n",
    "numbers.pop()\n",
    "print(numbers)"
   ]
  },
  {
   "cell_type": "code",
   "execution_count": 66,
   "id": "94dae5d7-73e3-4442-9f44-bd46ea1bf931",
   "metadata": {},
   "outputs": [
    {
     "name": "stdout",
     "output_type": "stream",
     "text": [
      "[1, 1, 2, 2, 2, 2, 4, 4, 5, 7]\n",
      "[7, 5, 4, 4, 2, 2, 2, 2, 1, 1]\n"
     ]
    }
   ],
   "source": [
    "# .sort() \n",
    "numbers.sort()\n",
    "print(numbers) \n",
    "\n",
    "numbers.sort(reverse=True)\n",
    "print(numbers)"
   ]
  },
  {
   "cell_type": "code",
   "execution_count": 67,
   "id": "d181ae8f-d0c6-4e26-bb13-2047f052da26",
   "metadata": {},
   "outputs": [
    {
     "name": "stdout",
     "output_type": "stream",
     "text": [
      "[7, 5, 4, 4, 2, 2, 2, 2, 1, 1]\n",
      "[1, 1, 2, 2, 2, 2, 4, 4, 5, 7]\n",
      "[7, 5, 4, 4, 2, 2, 2, 2, 1, 1]\n"
     ]
    }
   ],
   "source": [
    "# .reverse() - 역순으로\n",
    "print(numbers)\n",
    "numbers.reverse()\n",
    "print(numbers)\n",
    "numbers = numbers[::-1]\n",
    "print(numbers)"
   ]
  },
  {
   "cell_type": "markdown",
   "id": "917e0ec6-6d1d-4d9f-b49e-5bdc2b4142ba",
   "metadata": {},
   "source": [
    "### 2.1 list copy"
   ]
  },
  {
   "cell_type": "code",
   "execution_count": 68,
   "id": "96816278-8bbc-45a3-b33b-ce862ee1cc2c",
   "metadata": {},
   "outputs": [
    {
     "name": "stdout",
     "output_type": "stream",
     "text": [
      "[1, 2, 3]\n",
      "[1, 2, 3]\n"
     ]
    }
   ],
   "source": [
    "origin_list = [1, 2, 3]\n",
    "copy_list = origin_list\n",
    "\n",
    "print(origin_list)\n",
    "print(copy_list)"
   ]
  },
  {
   "cell_type": "code",
   "execution_count": 69,
   "id": "e03153c9-4e5b-4631-b066-441dbc621887",
   "metadata": {},
   "outputs": [
    {
     "name": "stdout",
     "output_type": "stream",
     "text": [
      "[100, 2, 3]\n",
      "[100, 2, 3]\n"
     ]
    }
   ],
   "source": [
    "copy_list[0] = 100\n",
    "\n",
    "print(origin_list)\n",
    "print(copy_list)"
   ]
  },
  {
   "cell_type": "code",
   "execution_count": 70,
   "id": "7bb41aad-0cc4-4152-8a62-de3d68a82575",
   "metadata": {},
   "outputs": [
    {
     "name": "stdout",
     "output_type": "stream",
     "text": [
      "[1, 2, 3]\n",
      "[100, 2, 3]\n",
      "[101, 2, 3]\n"
     ]
    }
   ],
   "source": [
    "a = [1, 2, 3]\n",
    "b = a[:]\n",
    "c = list(a)\n",
    "\n",
    "b[0] = 100\n",
    "c[0] = 101\n",
    "\n",
    "print(a)\n",
    "print(b)\n",
    "print(c)"
   ]
  },
  {
   "cell_type": "code",
   "execution_count": 73,
   "id": "11345027-6a52-44be-a821-562cfc913817",
   "metadata": {},
   "outputs": [
    {
     "name": "stdout",
     "output_type": "stream",
     "text": [
      "[1, 2, [100, 4]]\n",
      "[1, 2, [100, 4]]\n"
     ]
    }
   ],
   "source": [
    "a = [1, 2, [3, 4]]\n",
    "b = a[:]\n",
    "\n",
    "b[2][0] = 100\n",
    "\n",
    "print(a)\n",
    "print(b)"
   ]
  },
  {
   "cell_type": "code",
   "execution_count": 74,
   "id": "c75e1391-2e62-4b94-9edf-14a7d19cfd5d",
   "metadata": {},
   "outputs": [
    {
     "name": "stdout",
     "output_type": "stream",
     "text": [
      "[1, 2, [3, 4]]\n",
      "[1, 2, [100, 4]]\n"
     ]
    }
   ],
   "source": [
    "import copy\n",
    "a = [1, 2, [3, 4]]\n",
    "b = copy.deepcopy(a)\n",
    "\n",
    "b[2][0] = 100\n",
    "\n",
    "print(a)\n",
    "print(b)"
   ]
  },
  {
   "cell_type": "markdown",
   "id": "a8fd993f-21d3-4fbb-aa02-971a33784594",
   "metadata": {},
   "source": [
    "## 2.2 list comprehension"
   ]
  },
  {
   "cell_type": "code",
   "execution_count": 75,
   "id": "c5a425ec-cda8-4acf-a859-5b4853ed5221",
   "metadata": {},
   "outputs": [
    {
     "name": "stdout",
     "output_type": "stream",
     "text": [
      "[1, 2, 3, 4, 5, 6, 7, 8, 9, 10]\n"
     ]
    }
   ],
   "source": [
    "numbers = list(range(1, 11))\n",
    "print(numbers)"
   ]
  },
  {
   "cell_type": "code",
   "execution_count": 78,
   "id": "7b03f075-b15b-4831-afed-89a323c7c984",
   "metadata": {},
   "outputs": [
    {
     "name": "stdout",
     "output_type": "stream",
     "text": [
      "[1, 8, 27, 64, 125, 216, 343, 512, 729, 1000]\n"
     ]
    }
   ],
   "source": [
    "# 모든 요소 세제곱  \n",
    "# for문으로 새로 생성한 리스트에 추가\n",
    "\n",
    "result = []\n",
    "for num in numbers:\n",
    "    result.append(num ** 3)\n",
    "\n",
    "print(result)"
   ]
  },
  {
   "cell_type": "code",
   "execution_count": 77,
   "id": "62e06ccd-1931-4cbd-bb82-afa60cd9f632",
   "metadata": {},
   "outputs": [
    {
     "name": "stdout",
     "output_type": "stream",
     "text": [
      "[1, 8, 27, 64, 125, 216, 343, 512, 729, 1000]\n"
     ]
    }
   ],
   "source": [
    "result2 = [num ** 3 for num in numbers]\n",
    "print(result2)"
   ]
  },
  {
   "cell_type": "code",
   "execution_count": 79,
   "id": "bd151262-de7f-4cee-b1f3-39215c7dbaef",
   "metadata": {},
   "outputs": [
    {
     "name": "stdout",
     "output_type": "stream",
     "text": [
      "[2, 4, 6, 8, 10]\n"
     ]
    }
   ],
   "source": [
    "# 짝수만 고르기 - 반복문\n",
    "\n",
    "even_list = []\n",
    "for i in numbers:\n",
    "    if i % 2 == 0:\n",
    "        even_list.append(i)\n",
    "\n",
    "print(even_list)"
   ]
  },
  {
   "cell_type": "code",
   "execution_count": 80,
   "id": "b2afa211-a3d3-4aa8-b574-26cc2534e4a3",
   "metadata": {},
   "outputs": [
    {
     "name": "stdout",
     "output_type": "stream",
     "text": [
      "[2, 4, 6, 8, 10]\n"
     ]
    }
   ],
   "source": [
    "# 짝수만 고르기 - list comprehension\n",
    "\n",
    "even_list2 = [i for i in numbers if i % 2 ==0]\n",
    "print(even_list2)"
   ]
  },
  {
   "cell_type": "code",
   "execution_count": 81,
   "id": "25226d3d-94a2-4583-9e9d-dbf944d773bd",
   "metadata": {},
   "outputs": [],
   "source": [
    "words = 'my name is seungwook'\n",
    "vowels = 'aeiou'"
   ]
  },
  {
   "cell_type": "code",
   "execution_count": 83,
   "id": "1752b8ea-fb24-4765-86a1-94f55f4d76cc",
   "metadata": {},
   "outputs": [
    {
     "name": "stdout",
     "output_type": "stream",
     "text": [
      "['m', 'y', ' ', 'n', 'm', ' ', 's', ' ', 's', 'n', 'g', 'w', 'k']\n",
      "my nm s sngwk\n"
     ]
    }
   ],
   "source": [
    "# 모음제거 - for문 버전\n",
    "\n",
    "result = []\n",
    "\n",
    "for char in words:\n",
    "    if char not in vowels:\n",
    "        result.append(char)\n",
    "\n",
    "print(result)\n",
    "print(''.join(result))"
   ]
  },
  {
   "cell_type": "code",
   "execution_count": 84,
   "id": "4abbeb36-16b4-4827-85b5-aebf9b6b0cf3",
   "metadata": {},
   "outputs": [
    {
     "name": "stdout",
     "output_type": "stream",
     "text": [
      "['M', 'Y', ' ', 'N', 'M', ' ', 'S', ' ', 'S', 'N', 'G', 'W', 'K']\n",
      "MY NM S SNGWK\n"
     ]
    }
   ],
   "source": [
    "# 모음제거 - comprehension 버전\n",
    "\n",
    "result2 = [char.upper() for char in words if char not in vowels]\n",
    "\n",
    "print(result2)\n",
    "print(''.join(result2))"
   ]
  },
  {
   "cell_type": "markdown",
   "id": "4616aa18-6866-48c5-950d-f180c75696be",
   "metadata": {},
   "source": [
    "## 3. 딕셔너리 메소드"
   ]
  },
  {
   "cell_type": "code",
   "execution_count": 92,
   "id": "ec0d3cc6-2327-4b48-b499-b2199033b6a8",
   "metadata": {},
   "outputs": [],
   "source": [
    "info = {\n",
    "    'name': 'hong',\n",
    "    'location': 'seoul',\n",
    "}"
   ]
  },
  {
   "cell_type": "code",
   "execution_count": 93,
   "id": "60d13671-510b-4f94-94ef-29bdeea220a1",
   "metadata": {},
   "outputs": [
    {
     "name": "stdout",
     "output_type": "stream",
     "text": [
      "kim\n"
     ]
    }
   ],
   "source": [
    "# key에 접근하여 수정\n",
    "\n",
    "info['name'] = 'kim'\n",
    "print(info['name'])"
   ]
  },
  {
   "cell_type": "code",
   "execution_count": 94,
   "id": "79b82249-7f3f-453e-aaec-05d1a7ac2876",
   "metadata": {},
   "outputs": [
    {
     "name": "stdout",
     "output_type": "stream",
     "text": [
      "seoul\n",
      "{'name': 'kim'}\n"
     ]
    }
   ],
   "source": [
    "# .pop(key[, default]) \n",
    "#  key 항목 삭제 / 없으면 default 반환\n",
    "\n",
    "print(info.pop('location', None))\n",
    "print(info)"
   ]
  },
  {
   "cell_type": "code",
   "execution_count": 95,
   "id": "19aa120b-2c75-4788-9ae9-4b89613feba2",
   "metadata": {},
   "outputs": [
    {
     "name": "stdout",
     "output_type": "stream",
     "text": [
      "{'name': 'hong'}\n",
      "{'name': 'hong', 'location': 'seoul'}\n"
     ]
    }
   ],
   "source": [
    "# .update(key=value)\n",
    "# 수정 / 추가\n",
    "\n",
    "info.update(name='hong')\n",
    "print(info)\n",
    "\n",
    "info.update(location='seoul')\n",
    "print(info)"
   ]
  },
  {
   "cell_type": "code",
   "execution_count": 96,
   "id": "66b24950-9ffb-4c9d-952b-4d0658b54b28",
   "metadata": {},
   "outputs": [
    {
     "name": "stdout",
     "output_type": "stream",
     "text": [
      "hong\n",
      "None\n",
      "123\n"
     ]
    }
   ],
   "source": [
    "# .get(key[, default])\n",
    "# key 없으면 default 반환\n",
    "\n",
    "print(info.get('name'))\n",
    "print(info.get('school'))\n",
    "print(info.get('school', '123'))  "
   ]
  },
  {
   "cell_type": "markdown",
   "id": "7b652891-907a-4c2d-86ef-806bc7bd267b",
   "metadata": {},
   "source": [
    "### 3.1 dict comprehension"
   ]
  },
  {
   "cell_type": "code",
   "execution_count": 97,
   "id": "24081e35-ef0d-4419-aa22-99fe52dd43c4",
   "metadata": {},
   "outputs": [
    {
     "name": "stdout",
     "output_type": "stream",
     "text": [
      "{1: 1, 2: 8, 3: 27}\n"
     ]
    }
   ],
   "source": [
    "# for \n",
    "\n",
    "cube_dict = {}\n",
    "for i in range(1, 4):\n",
    "    cube_dict[i] = i ** 3\n",
    "    \n",
    "print(cube_dict)"
   ]
  },
  {
   "cell_type": "code",
   "execution_count": 98,
   "id": "887a06e6-d9e2-47b4-9445-66d43bc82877",
   "metadata": {},
   "outputs": [
    {
     "name": "stdout",
     "output_type": "stream",
     "text": [
      "{1: 1, 2: 8, 3: 27}\n"
     ]
    }
   ],
   "source": [
    "# comprehension\n",
    "\n",
    "cube_dict2 = {i: i ** 3 for i in range(1, 4)}\n",
    "print(cube_dict2)"
   ]
  },
  {
   "cell_type": "code",
   "execution_count": 99,
   "id": "209374ec-139d-4fc3-a315-a63e0ba670da",
   "metadata": {},
   "outputs": [],
   "source": [
    "dust = {\n",
    "    '서울': 100,\n",
    "    '대구': 30,\n",
    "    '대전': 10,\n",
    "    '부산': 80,\n",
    "    '광주': 50,\n",
    "}"
   ]
  },
  {
   "cell_type": "code",
   "execution_count": 100,
   "id": "4f4f3f22-cc6c-4982-bfb8-b9c9cfe12048",
   "metadata": {},
   "outputs": [
    {
     "name": "stdout",
     "output_type": "stream",
     "text": [
      "{'서울': 100, '부산': 80, '광주': 50}\n"
     ]
    }
   ],
   "source": [
    "# 50 이상인 지역 - for\n",
    "\n",
    "result = {}\n",
    "for k, v in dust.items():\n",
    "    if v >= 50:\n",
    "        result[k] = v\n",
    "\n",
    "print(result) "
   ]
  },
  {
   "cell_type": "code",
   "execution_count": 101,
   "id": "7a08826c-5619-4953-9dd2-72d24a77d32f",
   "metadata": {},
   "outputs": [
    {
     "name": "stdout",
     "output_type": "stream",
     "text": [
      "{'서울': 100, '부산': 80, '광주': 50}\n"
     ]
    }
   ],
   "source": [
    "# 50 이상인 지역 - comprehension\n",
    "\n",
    "result2 = {k: v for k, v in dust.items() if v >= 50}\n",
    "print(result2)"
   ]
  },
  {
   "cell_type": "code",
   "execution_count": 103,
   "id": "159f3f16-ea59-4a4e-b362-42d0b9f5dfcb",
   "metadata": {},
   "outputs": [
    {
     "name": "stdout",
     "output_type": "stream",
     "text": [
      "{'서울': '나쁨', '부산': '나쁨', '광주': '나쁨'}\n"
     ]
    }
   ],
   "source": [
    "# value 바꿔서 저장\n",
    "\n",
    "result2 = {k: '나쁨' for k, v in dust.items() if v >= 50}\n",
    "print(result2)"
   ]
  },
  {
   "cell_type": "markdown",
   "id": "2704f1e2-eee9-4fe6-965b-a3861d4da979",
   "metadata": {},
   "source": [
    "## 4. 세트 메소드"
   ]
  },
  {
   "cell_type": "code",
   "execution_count": 104,
   "id": "044273e2-c125-44a6-9644-ba6df2b01148",
   "metadata": {},
   "outputs": [],
   "source": [
    "fruits = {'apple', 'banana', 'melon'}"
   ]
  },
  {
   "cell_type": "code",
   "execution_count": 105,
   "id": "651931e6-9175-490d-a1a7-62949d17f73f",
   "metadata": {},
   "outputs": [
    {
     "name": "stdout",
     "output_type": "stream",
     "text": [
      "{'watermelon', 'banana', 'apple', 'melon'}\n"
     ]
    }
   ],
   "source": [
    "# .add(x) - 순서 상관x\n",
    "\n",
    "fruits.add('watermelon')\n",
    "print(fruits)"
   ]
  },
  {
   "cell_type": "code",
   "execution_count": 110,
   "id": "01dd5498-a9b0-4ef2-93eb-c9668312e17f",
   "metadata": {},
   "outputs": [
    {
     "name": "stdout",
     "output_type": "stream",
     "text": [
      "{'a', 'watermelon', 'e', 'pear', 'melon', 'p', 'apple', 'g', 'r'}\n",
      "{'a', 'watermelon', 'e', 'pear', 'melon', 'orange', 'p', 'apple', 'g', 'r'}\n"
     ]
    }
   ],
   "source": [
    "# .update()\n",
    "\n",
    "fruits.update('grape')\n",
    "print(fruits)\n",
    "\n",
    "fruits.update({'orange', 'pear'})\n",
    "print(fruits)"
   ]
  },
  {
   "cell_type": "code",
   "execution_count": 111,
   "id": "fdd2e2f8-9258-4439-bbe5-bbc059d1f8d2",
   "metadata": {},
   "outputs": [
    {
     "name": "stdout",
     "output_type": "stream",
     "text": [
      "{'a', 'watermelon', 'e', 'pear', 'melon', 'p', 'apple', 'g', 'r'}\n"
     ]
    }
   ],
   "source": [
    "# remove()\n",
    "\n",
    "fruits.remove('orange')\n",
    "print(fruits)"
   ]
  },
  {
   "cell_type": "code",
   "execution_count": 112,
   "id": "0ba9583e-eff4-46fb-9eb9-71987127e35a",
   "metadata": {},
   "outputs": [
    {
     "name": "stdout",
     "output_type": "stream",
     "text": [
      "{'watermelon', 'e', 'pear', 'melon', 'p', 'apple', 'g', 'r'}\n"
     ]
    }
   ],
   "source": [
    "# .pop()\n",
    "\n",
    "fruits.pop()\n",
    "print(fruits)"
   ]
  },
  {
   "cell_type": "markdown",
   "id": "65a8a87c-f942-4fd3-9fa1-fda6d91adf57",
   "metadata": {},
   "source": [
    "## 5. map(), zip(), filter()"
   ]
  },
  {
   "cell_type": "markdown",
   "id": "d892b889-4c37-4498-b341-4bb1638a1117",
   "metadata": {},
   "source": [
    "### 5.1 map()\n",
    "```python\n",
    "map(function, iterable)\n",
    "```"
   ]
  },
  {
   "cell_type": "code",
   "execution_count": 113,
   "id": "ade775bd-41b2-4db2-86b0-a6328b1f5477",
   "metadata": {},
   "outputs": [
    {
     "name": "stdout",
     "output_type": "stream",
     "text": [
      "<map object at 0x000002833801D840>\n",
      "['1', '2', '3']\n"
     ]
    }
   ],
   "source": [
    "a = [1, 2, 3]\n",
    "num_str = map(str, a)\n",
    "\n",
    "print(num_str)\n",
    "print(list(num_str))     "
   ]
  },
  {
   "cell_type": "code",
   "execution_count": 114,
   "id": "01c83761-1caf-4a01-bbec-76d16e33869e",
   "metadata": {},
   "outputs": [],
   "source": [
    "def cube(x):\n",
    "    return x ** 3"
   ]
  },
  {
   "cell_type": "code",
   "execution_count": 116,
   "id": "a970f709-9df0-4d4c-8c98-802edd6550cf",
   "metadata": {},
   "outputs": [
    {
     "name": "stdout",
     "output_type": "stream",
     "text": [
      "[1, 8, 27]\n"
     ]
    }
   ],
   "source": [
    "# for문 활용하여 모든 item에 cube함수 실행\n",
    "\n",
    "result = []\n",
    "for i in a:\n",
    "    result.append(cube(i))\n",
    "print(result)"
   ]
  },
  {
   "cell_type": "code",
   "execution_count": 117,
   "id": "724e98b5-4ee0-48e1-b9c8-c040a323bff4",
   "metadata": {},
   "outputs": [
    {
     "name": "stdout",
     "output_type": "stream",
     "text": [
      "[1, 8, 27]\n"
     ]
    }
   ],
   "source": [
    "# map() 활용하여 모든 item에 cube함수 실행\n",
    "\n",
    "result2 = map(cube, a)\n",
    "print(list(result2))"
   ]
  },
  {
   "cell_type": "code",
   "execution_count": 119,
   "id": "9aeb23a9-2a4d-418e-9e6b-37fbb7e9629e",
   "metadata": {},
   "outputs": [
    {
     "name": "stdin",
     "output_type": "stream",
     "text": [
      " 1 2 3 4 5\n"
     ]
    },
    {
     "name": "stdout",
     "output_type": "stream",
     "text": [
      "[1, 2, 3, 4, 5]\n"
     ]
    }
   ],
   "source": [
    "numbers = list(map(int, input().split()))\n",
    "print(numbers)"
   ]
  },
  {
   "cell_type": "markdown",
   "id": "59a5649a-7829-4cc4-a68a-798f0154a451",
   "metadata": {},
   "source": [
    "### 5.2 zip()"
   ]
  },
  {
   "cell_type": "code",
   "execution_count": 120,
   "id": "58bc4473-99ea-43ea-a337-995990eafc80",
   "metadata": {},
   "outputs": [],
   "source": [
    "a = [1, 2, 3]\n",
    "b = [100, 200 ,300]"
   ]
  },
  {
   "cell_type": "code",
   "execution_count": 121,
   "id": "6935bd46-6822-4116-97c6-77cc3baefc44",
   "metadata": {},
   "outputs": [
    {
     "name": "stdout",
     "output_type": "stream",
     "text": [
      "<zip object at 0x0000028337E3B900>\n",
      "[(1, 100), (2, 200), (3, 300)]\n"
     ]
    }
   ],
   "source": [
    "result = zip(a, b)\n",
    "\n",
    "print(result)\n",
    "print(list(result))"
   ]
  },
  {
   "cell_type": "markdown",
   "id": "584cd1ff-baba-4798-88cd-3cf80686e193",
   "metadata": {},
   "source": [
    "### 5.3 filter()\n",
    "\n",
    "```python\n",
    "filter(function, iterable)\n",
    "```\n",
    "filter에 들어가는 function은 T/F를 반환해야 한다."
   ]
  },
  {
   "cell_type": "code",
   "execution_count": 124,
   "id": "46598722-e57e-4285-93ad-bbb9c45fbe23",
   "metadata": {},
   "outputs": [],
   "source": [
    "def is_odd(x):\n",
    "    return bool(x%2)"
   ]
  },
  {
   "cell_type": "code",
   "execution_count": 125,
   "id": "8f4ac86f-a616-4f78-be51-69030210ccd4",
   "metadata": {},
   "outputs": [
    {
     "name": "stdout",
     "output_type": "stream",
     "text": [
      "<filter object at 0x0000028338024A00>\n",
      "[1, 3, 5]\n"
     ]
    }
   ],
   "source": [
    "numbers = [1, 2, 3, 4, 5]\n",
    "result = filter(is_odd, numbers)\n",
    "\n",
    "print(result)\n",
    "print(list(result))"
   ]
  }
 ],
 "metadata": {
  "kernelspec": {
   "display_name": "Python 3 (ipykernel)",
   "language": "python",
   "name": "python3"
  },
  "language_info": {
   "codemirror_mode": {
    "name": "ipython",
    "version": 3
   },
   "file_extension": ".py",
   "mimetype": "text/x-python",
   "name": "python",
   "nbconvert_exporter": "python",
   "pygments_lexer": "ipython3",
   "version": "3.11.4"
  }
 },
 "nbformat": 4,
 "nbformat_minor": 5
}
