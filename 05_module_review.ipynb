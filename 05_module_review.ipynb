{
 "cells": [
  {
   "cell_type": "markdown",
   "id": "1d0bd6bb-82d1-4598-9a8b-215f9e52273c",
   "metadata": {},
   "source": [
    "## 1. 모듈"
   ]
  },
  {
   "cell_type": "code",
   "execution_count": 3,
   "id": "c7e60a9d-77ca-4b8e-a6cf-4eec8cfc8805",
   "metadata": {},
   "outputs": [],
   "source": [
    "# fibo 파일 import\n",
    "\n",
    "import fibo"
   ]
  },
  {
   "cell_type": "code",
   "execution_count": 4,
   "id": "e29ab4b0-6fb2-49a8-a896-f55e529ff361",
   "metadata": {},
   "outputs": [
    {
     "name": "stdout",
     "output_type": "stream",
     "text": [
      "<module 'fibo' from 'C:\\\\Users\\\\s_jswwang7\\\\Desktop\\\\camp29\\\\TIL\\\\fibo.py'>\n"
     ]
    }
   ],
   "source": [
    "print(fibo)"
   ]
  },
  {
   "cell_type": "code",
   "execution_count": 8,
   "id": "a341ba96-2c09-431e-b423-18b171bdfb70",
   "metadata": {},
   "outputs": [
    {
     "data": {
      "text/plain": [
       "5"
      ]
     },
     "execution_count": 8,
     "metadata": {},
     "output_type": "execute_result"
    }
   ],
   "source": [
    "fibo.fib_loop(4)"
   ]
  },
  {
   "cell_type": "code",
   "execution_count": 9,
   "id": "faa2d52e-236b-4a94-a5ab-06443cfc63ed",
   "metadata": {},
   "outputs": [
    {
     "data": {
      "text/plain": [
       "3"
      ]
     },
     "execution_count": 9,
     "metadata": {},
     "output_type": "execute_result"
    }
   ],
   "source": [
    "fibo.fib_rec(3)"
   ]
  },
  {
   "cell_type": "markdown",
   "id": "9af219e8-862b-42c8-bd1a-5304d0b8b08a",
   "metadata": {},
   "source": [
    "## 2. 패키지\n",
    "\n",
    "```python\n",
    "myPackage/\n",
    "    __init__.py\n",
    "    math/\n",
    "        __inti__.py\n",
    "        fibo.py\n",
    "        formula.py\n",
    "```\n",
    "패키지 안에 `__init__.py` 파일이 있어야 패키지로 인식"
   ]
  },
  {
   "cell_type": "code",
   "execution_count": 10,
   "id": "2ecd06bd-5203-4761-8e34-5a6648d5fd6a",
   "metadata": {},
   "outputs": [],
   "source": [
    "import myPackage"
   ]
  },
  {
   "cell_type": "code",
   "execution_count": 11,
   "id": "7d233657-ed56-45a5-a3ff-a84e0619c03e",
   "metadata": {},
   "outputs": [
    {
     "name": "stdout",
     "output_type": "stream",
     "text": [
      "<module 'myPackage' from 'C:\\\\Users\\\\s_jswwang7\\\\Desktop\\\\camp29\\\\TIL\\\\myPackage\\\\__init__.py'>\n"
     ]
    }
   ],
   "source": [
    "print(myPackage)"
   ]
  },
  {
   "cell_type": "code",
   "execution_count": 13,
   "id": "650a834f-705f-4852-b3ba-402ba726a999",
   "metadata": {},
   "outputs": [],
   "source": [
    "# 패기지에서 필요한 모듈을 꺼내오는 코드\n",
    "\n",
    "from myPackage.math import formula"
   ]
  },
  {
   "cell_type": "code",
   "execution_count": 14,
   "id": "b9b21af8-35e2-4384-a14d-2920023b1000",
   "metadata": {},
   "outputs": [
    {
     "data": {
      "text/plain": [
       "3.14"
      ]
     },
     "execution_count": 14,
     "metadata": {},
     "output_type": "execute_result"
    }
   ],
   "source": [
    "formula.pi"
   ]
  },
  {
   "cell_type": "code",
   "execution_count": 15,
   "id": "f8e91df8-8435-418e-a121-463a1ac5fc32",
   "metadata": {},
   "outputs": [
    {
     "data": {
      "text/plain": [
       "2"
      ]
     },
     "execution_count": 15,
     "metadata": {},
     "output_type": "execute_result"
    }
   ],
   "source": [
    "formula.my_max(1, 2)"
   ]
  },
  {
   "cell_type": "code",
   "execution_count": 16,
   "id": "af41180b-dafb-4c58-ada7-ac3b851e1268",
   "metadata": {},
   "outputs": [],
   "source": [
    "# 경로에 있는 모듈이 가지고 있는 모든 변수, 함수를 추가\n",
    "\n",
    "from myPackage.math.fibo import *"
   ]
  },
  {
   "cell_type": "code",
   "execution_count": 17,
   "id": "22005df9-4a71-485a-922a-259fbad2ddb1",
   "metadata": {},
   "outputs": [
    {
     "data": {
      "text/plain": [
       "89"
      ]
     },
     "execution_count": 17,
     "metadata": {},
     "output_type": "execute_result"
    }
   ],
   "source": [
    "fib_loop(10)"
   ]
  },
  {
   "cell_type": "code",
   "execution_count": 18,
   "id": "c570d0c5-ed7f-47d6-8628-367aabfc61fb",
   "metadata": {},
   "outputs": [
    {
     "name": "stdout",
     "output_type": "stream",
     "text": [
      "1234\n",
      "<module 'myPackage.math.formula' from 'C:\\\\Users\\\\s_jswwang7\\\\Desktop\\\\camp29\\\\TIL\\\\myPackage\\\\math\\\\formula.py'>\n"
     ]
    }
   ],
   "source": [
    "formula = 1234\n",
    "from myPackage.math import formula as f\n",
    "\n",
    "print(formula)\n",
    "print(f)"
   ]
  },
  {
   "cell_type": "markdown",
   "id": "93588afd-1798-4d25-9e41-0348a2585f63",
   "metadata": {},
   "source": [
    "## 3. 파이썬 내장 패키지"
   ]
  },
  {
   "cell_type": "markdown",
   "id": "877c7be7-d59f-498f-9470-2a76c7543169",
   "metadata": {},
   "source": [
    "### 3.1 math"
   ]
  },
  {
   "cell_type": "code",
   "execution_count": 19,
   "id": "eebda65a-3591-40a1-b5ce-79ea1e261ab4",
   "metadata": {},
   "outputs": [],
   "source": [
    "import math "
   ]
  },
  {
   "cell_type": "code",
   "execution_count": 20,
   "id": "24cc6484-3e36-408f-a66f-6666bece3671",
   "metadata": {},
   "outputs": [
    {
     "data": {
      "text/plain": [
       "3.141592653589793"
      ]
     },
     "execution_count": 20,
     "metadata": {},
     "output_type": "execute_result"
    }
   ],
   "source": [
    "math.pi"
   ]
  },
  {
   "cell_type": "code",
   "execution_count": 21,
   "id": "6eeda4a6-b77e-471c-87cc-8da8f71aa217",
   "metadata": {},
   "outputs": [
    {
     "data": {
      "text/plain": [
       "2.718281828459045"
      ]
     },
     "execution_count": 21,
     "metadata": {},
     "output_type": "execute_result"
    }
   ],
   "source": [
    "math.e"
   ]
  },
  {
   "cell_type": "code",
   "execution_count": 22,
   "id": "aeed3a18-ebce-48be-976f-0312735df053",
   "metadata": {},
   "outputs": [],
   "source": [
    "pi = 3.141592"
   ]
  },
  {
   "cell_type": "code",
   "execution_count": 23,
   "id": "e1f7f142-ded8-44ec-8259-c4aad37afd96",
   "metadata": {},
   "outputs": [
    {
     "data": {
      "text/plain": [
       "4"
      ]
     },
     "execution_count": 23,
     "metadata": {},
     "output_type": "execute_result"
    }
   ],
   "source": [
    "math.ceil(pi)  #올림"
   ]
  },
  {
   "cell_type": "code",
   "execution_count": 24,
   "id": "6a2b4262-b87a-4055-a714-ae5ac4bd7912",
   "metadata": {},
   "outputs": [
    {
     "data": {
      "text/plain": [
       "3"
      ]
     },
     "execution_count": 24,
     "metadata": {},
     "output_type": "execute_result"
    }
   ],
   "source": [
    "math.floor(pi)  #내림"
   ]
  },
  {
   "cell_type": "code",
   "execution_count": 25,
   "id": "8ab01d94-b5f0-4ad6-b7f6-1fe7cffee24f",
   "metadata": {},
   "outputs": [
    {
     "data": {
      "text/plain": [
       "3.0"
      ]
     },
     "execution_count": 25,
     "metadata": {},
     "output_type": "execute_result"
    }
   ],
   "source": [
    "math.sqrt(9)   # root"
   ]
  },
  {
   "cell_type": "markdown",
   "id": "dabec55b-2bea-4cfc-8caf-332f20d8d8da",
   "metadata": {},
   "source": [
    "### 3.2 random"
   ]
  },
  {
   "cell_type": "code",
   "execution_count": 26,
   "id": "51df07e9-dfd7-4e2c-b61f-f112c5df93f3",
   "metadata": {},
   "outputs": [],
   "source": [
    "import random"
   ]
  },
  {
   "cell_type": "code",
   "execution_count": 27,
   "id": "d80919bd-5f55-40ea-bf11-a3c943d1d905",
   "metadata": {},
   "outputs": [
    {
     "data": {
      "text/plain": [
       "0.7098498062427737"
      ]
     },
     "execution_count": 27,
     "metadata": {},
     "output_type": "execute_result"
    }
   ],
   "source": [
    "random.random()  # 0~1 사이 임의의 소수"
   ]
  },
  {
   "cell_type": "code",
   "execution_count": 28,
   "id": "3a910d09-2fc7-4468-8173-864ad10fff1e",
   "metadata": {},
   "outputs": [
    {
     "data": {
      "text/plain": [
       "9"
      ]
     },
     "execution_count": 28,
     "metadata": {},
     "output_type": "execute_result"
    }
   ],
   "source": [
    "random.randint(1, 10)  # 1~10 사이의 랜덤 수"
   ]
  },
  {
   "cell_type": "code",
   "execution_count": 29,
   "id": "d6e60bb6-287c-450e-9a01-1cd6e4af0ede",
   "metadata": {},
   "outputs": [
    {
     "data": {
      "text/plain": [
       "0.13436424411240122"
      ]
     },
     "execution_count": 29,
     "metadata": {},
     "output_type": "execute_result"
    }
   ],
   "source": [
    "# seed - 고정된 랜덤 데이터\n",
    "random.seed(1)\n",
    "random.random()"
   ]
  },
  {
   "cell_type": "code",
   "execution_count": 30,
   "id": "6b401893-2032-4a7a-bb61-0e0f5a5644f3",
   "metadata": {},
   "outputs": [
    {
     "name": "stdout",
     "output_type": "stream",
     "text": [
      "[4, 2, 5, 3, 1]\n"
     ]
    }
   ],
   "source": [
    "# shuffle\n",
    "a = [1, 2, 3, 4, 5]\n",
    "random.shuffle(a)\n",
    "print(a)"
   ]
  },
  {
   "cell_type": "code",
   "execution_count": 31,
   "id": "965526e4-3ddd-47a3-8d7b-ab1ad93746e5",
   "metadata": {},
   "outputs": [
    {
     "name": "stdout",
     "output_type": "stream",
     "text": [
      "4\n",
      "바위\n"
     ]
    }
   ],
   "source": [
    "# choice\n",
    "a = [1, 2, 3, 4, 5]\n",
    "b = ['가위', '바위', '보']\n",
    "print(random.choice(a))\n",
    "print(random.choice(b))"
   ]
  },
  {
   "cell_type": "code",
   "execution_count": 32,
   "id": "20a9202b-6dcb-437e-a98e-f6f6a814311c",
   "metadata": {},
   "outputs": [
    {
     "data": {
      "text/plain": [
       "[42, 25, 14, 7, 32, 2]"
      ]
     },
     "execution_count": 32,
     "metadata": {},
     "output_type": "execute_result"
    }
   ],
   "source": [
    "# sample \n",
    "a = range(1, 46)\n",
    "random.sample(a, 6)"
   ]
  },
  {
   "cell_type": "markdown",
   "id": "271f280f-0dc3-40e5-bdcf-5c518fb3ebf4",
   "metadata": {},
   "source": [
    "### 3.3 datetime"
   ]
  },
  {
   "cell_type": "code",
   "execution_count": 33,
   "id": "14ff6f80-d951-42e3-8055-32f96d001d5e",
   "metadata": {},
   "outputs": [],
   "source": [
    "from datetime import datetime"
   ]
  },
  {
   "cell_type": "code",
   "execution_count": 34,
   "id": "c5a9888c-07aa-42da-af3b-fed641342262",
   "metadata": {},
   "outputs": [
    {
     "name": "stdout",
     "output_type": "stream",
     "text": [
      "2023-08-01 17:30:55.479690\n"
     ]
    }
   ],
   "source": [
    "now = datetime.now()\n",
    "print(now)"
   ]
  },
  {
   "cell_type": "code",
   "execution_count": 35,
   "id": "893b4f96-b696-4ffe-a940-8b88e010ad68",
   "metadata": {},
   "outputs": [
    {
     "name": "stdout",
     "output_type": "stream",
     "text": [
      "2023-08-01 17:30:59.302205\n"
     ]
    }
   ],
   "source": [
    "today = datetime.today()\n",
    "print(today)"
   ]
  },
  {
   "cell_type": "code",
   "execution_count": 36,
   "id": "46a42f16-849f-4ccd-a477-64a88628b184",
   "metadata": {},
   "outputs": [
    {
     "name": "stdout",
     "output_type": "stream",
     "text": [
      "2023-08-01 08:31:03.030702\n"
     ]
    }
   ],
   "source": [
    "utc = datetime.utcnow()\n",
    "print(utc)"
   ]
  },
  {
   "cell_type": "code",
   "execution_count": 37,
   "id": "0ed48e8b-f9f9-4cd1-b207-0e2a05c933e6",
   "metadata": {},
   "outputs": [
    {
     "data": {
      "text/plain": [
       "'2023년 08월 01일'"
      ]
     },
     "execution_count": 37,
     "metadata": {},
     "output_type": "execute_result"
    }
   ],
   "source": [
    "now.strftime('%Y년 %m월 %d일')"
   ]
  },
  {
   "cell_type": "code",
   "execution_count": 38,
   "id": "3d4f5d57-346d-4926-85c2-162cc8f1c98b",
   "metadata": {},
   "outputs": [
    {
     "data": {
      "text/plain": [
       "2023"
      ]
     },
     "execution_count": 38,
     "metadata": {},
     "output_type": "execute_result"
    }
   ],
   "source": [
    "now.year"
   ]
  },
  {
   "cell_type": "code",
   "execution_count": 39,
   "id": "19a54eb4-27d3-48d3-8b05-6eab331a49f8",
   "metadata": {},
   "outputs": [
    {
     "data": {
      "text/plain": [
       "1"
      ]
     },
     "execution_count": 39,
     "metadata": {},
     "output_type": "execute_result"
    }
   ],
   "source": [
    "now.day"
   ]
  },
  {
   "cell_type": "code",
   "execution_count": 40,
   "id": "006bbc5f-b264-489b-a123-beace88084b6",
   "metadata": {},
   "outputs": [
    {
     "data": {
      "text/plain": [
       "1"
      ]
     },
     "execution_count": 40,
     "metadata": {},
     "output_type": "execute_result"
    }
   ],
   "source": [
    "# weekday => 0~6, 월~일\n",
    "now.weekday()"
   ]
  },
  {
   "cell_type": "code",
   "execution_count": 41,
   "id": "e822dbc1-fe8e-4b86-a9f7-6e88a205b898",
   "metadata": {},
   "outputs": [
    {
     "name": "stdout",
     "output_type": "stream",
     "text": [
      "2023-01-01 00:00:00\n"
     ]
    }
   ],
   "source": [
    "birth = datetime(2023, 1, 1)\n",
    "print(birth)"
   ]
  },
  {
   "cell_type": "code",
   "execution_count": 42,
   "id": "3d3f6c48-4775-43b6-b74b-2e7e2c536278",
   "metadata": {},
   "outputs": [],
   "source": [
    "from datetime import timedelta"
   ]
  },
  {
   "cell_type": "code",
   "execution_count": 43,
   "id": "3d2497bf-ab63-4d9f-858f-53aab796f432",
   "metadata": {},
   "outputs": [
    {
     "name": "stdout",
     "output_type": "stream",
     "text": [
      "3 days, 0:00:00\n"
     ]
    }
   ],
   "source": [
    "future = timedelta(days=3)\n",
    "print(future)"
   ]
  },
  {
   "cell_type": "code",
   "execution_count": 44,
   "id": "b7357180-1e15-451a-b4f9-de96a30e833f",
   "metadata": {},
   "outputs": [
    {
     "data": {
      "text/plain": [
       "datetime.datetime(2023, 1, 4, 0, 0)"
      ]
     },
     "execution_count": 44,
     "metadata": {},
     "output_type": "execute_result"
    }
   ],
   "source": [
    "birth + future"
   ]
  },
  {
   "cell_type": "code",
   "execution_count": 45,
   "id": "4a8249c1-6104-42a6-803a-a836552da748",
   "metadata": {},
   "outputs": [],
   "source": [
    "christmas = datetime(2023, 12, 25)"
   ]
  },
  {
   "cell_type": "code",
   "execution_count": 46,
   "id": "6a04cf7e-8e8f-45e7-a15a-d5b3b98373bc",
   "metadata": {},
   "outputs": [
    {
     "data": {
      "text/plain": [
       "datetime.timedelta(days=145, seconds=23344, microseconds=520310)"
      ]
     },
     "execution_count": 46,
     "metadata": {},
     "output_type": "execute_result"
    }
   ],
   "source": [
    "christmas - now"
   ]
  },
  {
   "cell_type": "code",
   "execution_count": null,
   "id": "3886c7b0-5429-4ede-bd55-d4009a0fd35f",
   "metadata": {},
   "outputs": [],
   "source": []
  }
 ],
 "metadata": {
  "kernelspec": {
   "display_name": "Python 3 (ipykernel)",
   "language": "python",
   "name": "python3"
  },
  "language_info": {
   "codemirror_mode": {
    "name": "ipython",
    "version": 3
   },
   "file_extension": ".py",
   "mimetype": "text/x-python",
   "name": "python",
   "nbconvert_exporter": "python",
   "pygments_lexer": "ipython3",
   "version": "3.11.4"
  }
 },
 "nbformat": 4,
 "nbformat_minor": 5
}
