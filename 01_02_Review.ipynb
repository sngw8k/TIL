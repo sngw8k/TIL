{
 "cells": [
  {
   "cell_type": "markdown",
   "id": "057221d7-1a3f-466b-8e15-58ef4e2e6c9f",
   "metadata": {},
   "source": [
    "# 01_intro review"
   ]
  },
  {
   "cell_type": "markdown",
   "id": "f7a4b5d2-4826-452c-ba84-3e042baa5f12",
   "metadata": {},
   "source": [
    "### 몫, 나머지, 제곱"
   ]
  },
  {
   "cell_type": "code",
   "execution_count": 4,
   "id": "2bbefaf8-2545-4e41-92cc-610c4ffb2462",
   "metadata": {},
   "outputs": [
    {
     "name": "stdout",
     "output_type": "stream",
     "text": [
      "3\n",
      "1\n",
      "(3, 1)\n"
     ]
    },
    {
     "data": {
      "text/plain": [
       "tuple"
      ]
     },
     "execution_count": 4,
     "metadata": {},
     "output_type": "execute_result"
    }
   ],
   "source": [
    "a = 10\n",
    "b = 3\n",
    "\n",
    "# a를 b로 나눈 몫\n",
    "print(a // b)\n",
    "\n",
    "# a를 b로 나눈 나머지\n",
    "print(a % b)\n",
    "\n",
    "# a를 b로 나눈 몫,나머지 출력  - tuple 형\n",
    "print(divmod(a,b))\n",
    "type(divmod(a,b))"
   ]
  },
  {
   "cell_type": "markdown",
   "id": "b395b75a-7b7a-4aba-bf57-7ae73eb7bb8a",
   "metadata": {},
   "source": [
    "### 기타연산자"
   ]
  },
  {
   "cell_type": "code",
   "execution_count": 8,
   "id": "c0d801c1-439c-4bf6-ab47-d182e09f4037",
   "metadata": {},
   "outputs": [
    {
     "name": "stdout",
     "output_type": "stream",
     "text": [
      "hihello\n"
     ]
    }
   ],
   "source": [
    "# concatenation - str\n",
    "a = 'hi'\n",
    "b = 'hello'\n",
    "print(a + b)"
   ]
  },
  {
   "cell_type": "code",
   "execution_count": 9,
   "id": "25220546-d4db-480d-af1c-597bb5221538",
   "metadata": {},
   "outputs": [
    {
     "name": "stdout",
     "output_type": "stream",
     "text": [
      "[1, 2, 3, 4, 5, 6]\n"
     ]
    }
   ],
   "source": [
    "# concatenation - list\n",
    "a = [1, 2, 3]\n",
    "b = [4, 5, 6]\n",
    "print(a + b)"
   ]
  },
  {
   "cell_type": "code",
   "execution_count": 10,
   "id": "dc254b77-5abd-4583-81c5-80cbb0efd1b3",
   "metadata": {},
   "outputs": [
    {
     "name": "stdout",
     "output_type": "stream",
     "text": [
      "True\n",
      "False\n"
     ]
    }
   ],
   "source": [
    "# containment - str\n",
    "print('a' in 'apple')\n",
    "print('z' in 'apple')"
   ]
  },
  {
   "cell_type": "code",
   "execution_count": 11,
   "id": "9b665d6e-3f8e-4c39-ad02-b5ccebfadfc4",
   "metadata": {},
   "outputs": [
    {
     "name": "stdout",
     "output_type": "stream",
     "text": [
      "True\n",
      "False\n"
     ]
    }
   ],
   "source": [
    "# containment - list\n",
    "print(1 in [1, 2, 3])\n",
    "print(10 in [1, 2, 3])"
   ]
  },
  {
   "cell_type": "markdown",
   "id": "f4edd35e-4868-430e-814a-1465a13968d5",
   "metadata": {},
   "source": [
    "### 우선순위\n",
    "\n",
    "0. ()로 그룹\n",
    "1. 산술연산자 (*, /)\n",
    "2. 산술연산자 (+, -)\n",
    "3. 비교연산자, in, is\n",
    "4. not\n",
    "5. and\n",
    "6. or"
   ]
  },
  {
   "cell_type": "markdown",
   "id": "058ce397-8d9b-4128-843d-adf148412030",
   "metadata": {},
   "source": [
    "### 명시적 형변환\n",
    "\n",
    "- int() : string, float를 int로 변환\n",
    "- float() : string, int를 float로 변환\n",
    "- str() : int, float 등을 string으로 변환\n",
    "- bool() : int, list 등을 boolean으로 변환\n",
    "\r\n",
    "\n"
   ]
  },
  {
   "cell_type": "markdown",
   "id": "bf3ec3f4-f3de-4e09-a84d-6890198ff485",
   "metadata": {},
   "source": [
    "### 시퀀스에서 활용가능한 연산/함수"
   ]
  },
  {
   "cell_type": "code",
   "execution_count": 12,
   "id": "ed33436b-0677-4594-9272-71b489b3a46c",
   "metadata": {},
   "outputs": [],
   "source": [
    "my_list = [1, 2, 3, 4, 5]\n",
    "my_tuple = (1, 2, 3, 4, 5)\n",
    "my_range = range(1, 100)\n",
    "my_string = '12345'"
   ]
  },
  {
   "cell_type": "code",
   "execution_count": 13,
   "id": "3ad322a6-b097-43e9-a1c5-25cefc8dd470",
   "metadata": {},
   "outputs": [
    {
     "name": "stdout",
     "output_type": "stream",
     "text": [
      "2\n",
      "2\n",
      "2\n",
      "2\n"
     ]
    }
   ],
   "source": [
    "# indexing - 인덱스에 해당하는 값에 접근\n",
    "\n",
    "print(my_list[1])\n",
    "print(my_tuple[1])\n",
    "print(my_range[1])\n",
    "print(my_string[1])"
   ]
  },
  {
   "cell_type": "code",
   "execution_count": 14,
   "id": "5384fa08-4591-4052-b8ba-69a629124f4b",
   "metadata": {},
   "outputs": [
    {
     "name": "stdout",
     "output_type": "stream",
     "text": [
      "[2, 3]\n",
      "(2, 3)\n",
      "range(2, 4)\n",
      "23\n"
     ]
    }
   ],
   "source": [
    "# slicing - 1번 인덱스부터 3번 인덱스 전까지\n",
    "\n",
    "print(my_list[1:3])\n",
    "print(my_tuple[1:3])\n",
    "print(my_range[1:3])\n",
    "print(my_string[1:3])"
   ]
  },
  {
   "cell_type": "code",
   "execution_count": 19,
   "id": "a2d6f267-c5e4-46a5-8c82-3e29a79dea1e",
   "metadata": {},
   "outputs": [
    {
     "name": "stdout",
     "output_type": "stream",
     "text": [
      "[3, 5, 7, 9]\n",
      "[11, 10, 9, 8, 7, 6, 5, 4]\n"
     ]
    }
   ],
   "source": [
    "# slicing (k간격으로)\n",
    "\n",
    "print(list(my_range[2:10:2]))\n",
    "print(list(my_range[10:2:-1]))  # my_range[10] = 11, my_range[2] = 3"
   ]
  },
  {
   "cell_type": "code",
   "execution_count": 21,
   "id": "256daf79-5ef2-4724-9c05-3d378a7e0e7c",
   "metadata": {},
   "outputs": [
    {
     "name": "stdout",
     "output_type": "stream",
     "text": [
      "True\n",
      "True\n",
      "False\n",
      "False\n"
     ]
    }
   ],
   "source": [
    "# in, not in - T/F 로 반환\n",
    "\n",
    "print(1 in my_list)\n",
    "print(1 in my_tuple)\n",
    "print(1 not in my_range)\n",
    "print('1' not in my_string)"
   ]
  },
  {
   "cell_type": "code",
   "execution_count": 23,
   "id": "6d697c16-6784-4f1e-be6a-4130166a565f",
   "metadata": {},
   "outputs": [
    {
     "name": "stdout",
     "output_type": "stream",
     "text": [
      "5\n",
      "1\n",
      "5\n"
     ]
    },
    {
     "data": {
      "text/plain": [
       "1"
      ]
     },
     "execution_count": 23,
     "metadata": {},
     "output_type": "execute_result"
    }
   ],
   "source": [
    "# len, max, min, count\n",
    "\n",
    "print(len(my_list))\n",
    "print(min(my_list))\n",
    "print(max(my_list))\n",
    "my_list.count(1)     # 1이 몇개 들어있는지"
   ]
  },
  {
   "cell_type": "markdown",
   "id": "d17ad6fd-3f96-4c78-b38a-983a2d19aa5b",
   "metadata": {},
   "source": [
    "### 시퀀스 데이터가 아닌 자료구조\n",
    "\n",
    "- set \n",
    "- dictionary"
   ]
  },
  {
   "cell_type": "markdown",
   "id": "959a0f96-8223-4f71-a88a-b7fb5b1b074c",
   "metadata": {},
   "source": [
    "### Set\n",
    "수학에서 사용하는 집합과 동일하게 처리 (중복된 값이 없음)\n",
    "- 선언 : set_name = {value1, value2, value3...}"
   ]
  },
  {
   "cell_type": "code",
   "execution_count": 25,
   "id": "8a41fc20-c072-4b41-b06d-b9f0b0361a00",
   "metadata": {},
   "outputs": [
    {
     "name": "stdout",
     "output_type": "stream",
     "text": [
      "{1, 2}\n",
      "{1, 2, 3, 4, 5, 6, 7}\n",
      "{3, 4, 5}\n"
     ]
    }
   ],
   "source": [
    "my_set_a = {1, 2, 3, 4, 5}\n",
    "my_set_b = {3, 4, 5, 6, 7}\n",
    "\n",
    "print(my_set_a - my_set_b)  # 차집합\n",
    "print(my_set_a | my_set_b)  # 합집합\n",
    "print(my_set_a & my_set_b)  # 교집합"
   ]
  },
  {
   "cell_type": "code",
   "execution_count": 26,
   "id": "f0f74e35-8676-4db8-ab91-2a84124da82b",
   "metadata": {},
   "outputs": [
    {
     "name": "stdout",
     "output_type": "stream",
     "text": [
      "[1, 2, 3, 4, 5, 6, 7]\n"
     ]
    }
   ],
   "source": [
    "# 리스트의 중복된 값 제거할 때 사용할 수 있다.\n",
    "\n",
    "my_list = [1, 1, 1, 1, 1, 2, 2, 3, 4, 5, 6, 7]\n",
    "print(list(set(my_list)))"
   ]
  },
  {
   "cell_type": "markdown",
   "id": "b9a5d474-da39-44a7-a043-59991aafd22f",
   "metadata": {},
   "source": [
    "### Dictionary\n",
    "\n",
    "- 선언 : dict_name = {key1: value1, key2: value2, ...}\n",
    "- 접근 : dict_name[key]\n",
    "- key에는 immutable한 모든 것을 사용가능 (불변값: string, integer...)\n",
    "- value에는 모든 데이터 가능(list, dictionary도 가능)"
   ]
  },
  {
   "cell_type": "code",
   "execution_count": 31,
   "id": "d30a9772-0bb6-41db-afb6-bb01098a0cf2",
   "metadata": {},
   "outputs": [
    {
     "name": "stdout",
     "output_type": "stream",
     "text": [
      "seungwook\n",
      "{'name': 'seungwook', 'location': 'seoul2'}\n"
     ]
    }
   ],
   "source": [
    "# key가 중복되면 나중에 할당된 값으로 덮어씌어진다.\n",
    "dict_a = {\n",
    "    'name': 'seungwook',\n",
    "    'location': 'seoul',\n",
    "    'location': 'seoul2'\n",
    "}\n",
    "\n",
    "print(dict_a['name'])\n",
    "print(dict_a)"
   ]
  },
  {
   "cell_type": "code",
   "execution_count": 32,
   "id": "d4ff86d3-b9e0-4599-b7d3-524128bc40d4",
   "metadata": {},
   "outputs": [
    {
     "name": "stdout",
     "output_type": "stream",
     "text": [
      "dict_keys(['name', 'location'])\n",
      "dict_values(['seungwook', 'seoul2'])\n",
      "True\n",
      "True\n"
     ]
    }
   ],
   "source": [
    "# key와 value 따로 추출\n",
    "\n",
    "print(dict_a.keys())\n",
    "print(dict_a.values())\n",
    "\n",
    "print('name' in dict_a.keys())\n",
    "print('seoul2' in dict_a.values())"
   ]
  },
  {
   "cell_type": "markdown",
   "id": "8ec20d95-3276-4b50-999a-4f4407d0cf32",
   "metadata": {},
   "source": [
    "# 02_control_of_flow review"
   ]
  },
  {
   "cell_type": "markdown",
   "id": "fd9e4c9e-c9b1-4830-8075-b868469f0092",
   "metadata": {},
   "source": [
    "### 조건문 - if문\n",
    "\n",
    "- `if`문은 반드시 일정한 `참/거짓`을 판단할 수 있는 `조건식`과 함께 사용한다.\n",
    "- `if <조건식>:`\n",
    "- `<조건식>`이 참인 경우 `:` 이후의 문장을 실행\n",
    "- `<조건식>`이 거짓인 경우 `else:` 이후의 문장을 실행 "
   ]
  },
  {
   "cell_type": "code",
   "execution_count": 33,
   "id": "e3a0b959-095e-4e43-b31b-a858b1d003be",
   "metadata": {},
   "outputs": [
    {
     "name": "stdin",
     "output_type": "stream",
     "text": [
      "점수를 입력하세요: 96\n"
     ]
    },
    {
     "name": "stdout",
     "output_type": "stream",
     "text": [
      "A\n",
      "참잘했어요\n"
     ]
    }
   ],
   "source": [
    "# 90점 이상 A (95점이상 '참잘했어요')\n",
    "# 80점 이상 B\n",
    "# 70점 이상 C\n",
    "# 나머지 F\n",
    "score = int(input('점수를 입력하세요:'))\n",
    "\n",
    "if score >= 90:\n",
    "    print('A')\n",
    "    if score >= 95:\n",
    "        print('참잘했어요')\n",
    "elif score >= 80:\n",
    "    print('B')\n",
    "elif score >= 70:\n",
    "    print('C')\n",
    "else:\n",
    "    print('F')"
   ]
  },
  {
   "cell_type": "markdown",
   "id": "191d1a50-3750-43e8-81f0-e88a7c0ecea7",
   "metadata": {},
   "source": [
    "### 조건표현식\n",
    "\n",
    "```python\n",
    "true_value if <조건식> else false_value\n",
    "```"
   ]
  },
  {
   "cell_type": "code",
   "execution_count": 35,
   "id": "47619323-1598-490d-9009-0b0f8208baf0",
   "metadata": {},
   "outputs": [
    {
     "name": "stdout",
     "output_type": "stream",
     "text": [
      "짝수\n"
     ]
    }
   ],
   "source": [
    "# result에 '홀수'/'짝수' 할당할지 선택\n",
    "\n",
    "num = 2\n",
    "result = '홀수' if num % 2 == 1 else '짝수'\n",
    "print(result)"
   ]
  },
  {
   "cell_type": "markdown",
   "id": "c6099a67-916f-445a-b21f-dcf9b8fc3f27",
   "metadata": {},
   "source": [
    "### 반복문"
   ]
  },
  {
   "cell_type": "markdown",
   "id": "125f28f8-27f7-48c4-95a7-aac25a0531e5",
   "metadata": {},
   "source": [
    "### while\n",
    "\n",
    "```python\n",
    "while <조건식>:\n",
    "    code\n",
    "```"
   ]
  },
  {
   "cell_type": "code",
   "execution_count": 36,
   "id": "c9cb547b-3dc4-4da9-992b-5e48c946857b",
   "metadata": {},
   "outputs": [
    {
     "name": "stdout",
     "output_type": "stream",
     "text": [
      "0\n",
      "1\n",
      "2\n",
      "3\n",
      "4\n"
     ]
    }
   ],
   "source": [
    "a = 0\n",
    "\n",
    "while a < 5:\n",
    "    print(a)\n",
    "    a += 1"
   ]
  },
  {
   "cell_type": "markdown",
   "id": "44beefc9-7920-483a-a5f7-9bcb47694a59",
   "metadata": {},
   "source": [
    "### for\n",
    "정해진 범위 내의 반복\n",
    "\n",
    "```python\n",
    "    for variable in sequence:\r\n",
    "    code\n",
    "```"
   ]
  },
  {
   "cell_type": "code",
   "execution_count": 37,
   "id": "2756df96-161d-4bd2-9224-e67b309ea189",
   "metadata": {},
   "outputs": [
    {
     "name": "stdout",
     "output_type": "stream",
     "text": [
      "1\n",
      "2\n",
      "3\n",
      "4\n",
      "5\n"
     ]
    }
   ],
   "source": [
    "numbers = [1, 2, 3, 4, 5]\n",
    "\n",
    "for number in numbers:\n",
    "    print(number)"
   ]
  },
  {
   "cell_type": "code",
   "execution_count": 38,
   "id": "be1c8b33-6d72-43fe-a07a-1ad8b7dfe901",
   "metadata": {},
   "outputs": [
    {
     "name": "stdout",
     "output_type": "stream",
     "text": [
      "[1, 3, 5, 7, 9, 11, 13, 15, 17, 19, 21, 23, 25, 27, 29]\n"
     ]
    }
   ],
   "source": [
    "# 1~30까지 숫자 중에서 홀수만 담긴 리스트를 출력\n",
    "\n",
    "a = list(range(1,31))\n",
    "result = []\n",
    "\n",
    "for i in a:\n",
    "    if i % 2 == 1:\n",
    "        result.append(i)\n",
    "print(result)"
   ]
  },
  {
   "cell_type": "code",
   "execution_count": 41,
   "id": "26f8a857-837b-43c1-9024-c3d91428946a",
   "metadata": {},
   "outputs": [
    {
     "name": "stdout",
     "output_type": "stream",
     "text": [
      "0\n",
      "라면\n",
      "1\n",
      "김밥\n",
      "2\n",
      "돈까스\n"
     ]
    }
   ],
   "source": [
    "#enumerate() : index값 필요할 때 사용\n",
    "\n",
    "menus = ['라면', '김밥', '돈까스']\n",
    "\n",
    "for menu in enumerate(menus):   \n",
    "    print(menu[0])\n",
    "    print(menu[1])"
   ]
  },
  {
   "cell_type": "code",
   "execution_count": 40,
   "id": "3d4ab851-567b-461d-9dd9-85aa9478e7f5",
   "metadata": {},
   "outputs": [
    {
     "name": "stdout",
     "output_type": "stream",
     "text": [
      "0\n",
      "라면\n",
      "1\n",
      "김밥\n",
      "2\n",
      "돈까스\n"
     ]
    }
   ],
   "source": [
    "menus = ['라면', '김밥', '돈까스']\n",
    "\n",
    "for idx, menu in enumerate(menus):   \n",
    "    print(idx)\n",
    "    print(menu)"
   ]
  },
  {
   "cell_type": "markdown",
   "id": "057a1373-619a-43a1-b0c3-d86a8c12f86e",
   "metadata": {},
   "source": [
    "### dictionary 반복\n",
    "```python\n",
    " for key in dict:\n",
    " for key in dict.keys():\n",
    " for value in dict.values():\n",
    " for key, value in dict.items():\n",
    "```"
   ]
  },
  {
   "cell_type": "code",
   "execution_count": 42,
   "id": "6b1ab8b7-de37-452e-bc41-6e3e6bc82593",
   "metadata": {},
   "outputs": [],
   "source": [
    "info = {\n",
    "    'name': 'gildong',\n",
    "    'location': 'seoul',\n",
    "    'phone': '010-1234-1234'\n",
    "}"
   ]
  },
  {
   "cell_type": "code",
   "execution_count": 43,
   "id": "e0e3101f-e0c9-4230-ba85-654c87f2905a",
   "metadata": {},
   "outputs": [
    {
     "name": "stdout",
     "output_type": "stream",
     "text": [
      "name\n",
      "gildong\n",
      "location\n",
      "seoul\n",
      "phone\n",
      "010-1234-1234\n"
     ]
    }
   ],
   "source": [
    "for i in info:\n",
    "    print(i)       # key에 접근\n",
    "    print(info[i])  # value에 접근"
   ]
  },
  {
   "cell_type": "code",
   "execution_count": 45,
   "id": "11dbc813-bddf-44b1-93ef-c7d6d04afb00",
   "metadata": {},
   "outputs": [],
   "source": [
    "blood_type = {\n",
    "    'A': 5,\n",
    "    'B': 4,\n",
    "    'O': 2,\n",
    "    'AB': 3\n",
    "}"
   ]
  },
  {
   "cell_type": "code",
   "execution_count": 48,
   "id": "277c5b1f-c734-4271-8d10-b9a5055aaad6",
   "metadata": {},
   "outputs": [
    {
     "name": "stdout",
     "output_type": "stream",
     "text": [
      "혈액형 목록\n",
      "A\n",
      "B\n",
      "O\n",
      "AB\n"
     ]
    }
   ],
   "source": [
    "# for key in dict:\n",
    "\n",
    "print('혈액형 목록')\n",
    "for key in blood_type:    \n",
    "    print(key)"
   ]
  },
  {
   "cell_type": "code",
   "execution_count": 49,
   "id": "7841dc17-a7d2-4bef-aaa7-47770031076b",
   "metadata": {},
   "outputs": [
    {
     "name": "stdout",
     "output_type": "stream",
     "text": [
      "혈액형 목록\n",
      "A\n",
      "B\n",
      "O\n",
      "AB\n"
     ]
    }
   ],
   "source": [
    "# for key in dict.keys():\n",
    "\n",
    "print('혈액형 목록')\n",
    "for key in blood_type.keys():\n",
    "    print(key)"
   ]
  },
  {
   "cell_type": "code",
   "execution_count": 51,
   "id": "6bc88157-f675-4cd7-8ab7-47cfeb32e127",
   "metadata": {},
   "outputs": [
    {
     "name": "stdout",
     "output_type": "stream",
     "text": [
      "혈액형별 인원\n",
      "5\n",
      "4\n",
      "2\n",
      "3\n"
     ]
    }
   ],
   "source": [
    "# for key in dict.values():\n",
    "\n",
    "print('혈액형별 인원')\n",
    "for value in blood_type.values():\n",
    "    print(value)"
   ]
  },
  {
   "cell_type": "code",
   "execution_count": 54,
   "id": "6b5170f1-ac75-4779-b881-75c7997f5963",
   "metadata": {},
   "outputs": [
    {
     "name": "stdout",
     "output_type": "stream",
     "text": [
      "A형은 5명입니다\n",
      "B형은 4명입니다\n",
      "O형은 2명입니다\n",
      "AB형은 3명입니다\n",
      "dict_items([('A', 5), ('B', 4), ('O', 2), ('AB', 3)])\n"
     ]
    }
   ],
   "source": [
    "# for key, value in dict.items()\n",
    "\n",
    "for key, value in blood_type.items():\n",
    "    print(f'{key}형은 {value}명입니다')\n",
    "\n",
    "print(blood_type.items())"
   ]
  },
  {
   "cell_type": "markdown",
   "id": "cdac0fac-c517-4977-8571-5e1c8d5e7c8b",
   "metadata": {},
   "source": [
    "### break, continue\n",
    "\n",
    "- break : 반복문을 종료시키는 키워드\n",
    "- continue : continue 이후의 코드를 실행하지 않고 다음 반복을 진행"
   ]
  },
  {
   "cell_type": "code",
   "execution_count": 56,
   "id": "5a5dbd06-2045-45da-980d-c36de543a0c7",
   "metadata": {},
   "outputs": [
    {
     "name": "stdout",
     "output_type": "stream",
     "text": [
      "0\n",
      "1\n",
      "2\n",
      "3\n",
      "3 넘었어\n"
     ]
    }
   ],
   "source": [
    "for i in range(100):\n",
    "    if i > 3:\n",
    "        print('3 넘었어')\n",
    "        break\n",
    "    print(i)"
   ]
  },
  {
   "cell_type": "code",
   "execution_count": 58,
   "id": "6c67579b-155f-44f4-9880-d6a62dcde98e",
   "metadata": {},
   "outputs": [
    {
     "name": "stdout",
     "output_type": "stream",
     "text": [
      "0\n",
      "2\n",
      "4\n",
      "6\n",
      "8\n"
     ]
    }
   ],
   "source": [
    "# 홀수 -> i % 2 = 1 \n",
    "# True로 판단 -> continue로 실행 X\n",
    "\n",
    "for i in range(10):\n",
    "    if i % 2:\n",
    "        continue\n",
    "    print(i)"
   ]
  },
  {
   "cell_type": "markdown",
   "id": "2d1644ab-be55-4e03-8314-df7e020d7a29",
   "metadata": {},
   "source": [
    "### else\n",
    "\n",
    "- else문은 끝까지 반복이 진행된 후 실행"
   ]
  },
  {
   "cell_type": "code",
   "execution_count": 59,
   "id": "ef81654d-70f7-4e9d-9a60-c0a42a85ce54",
   "metadata": {},
   "outputs": [
    {
     "name": "stdout",
     "output_type": "stream",
     "text": [
      "0\n",
      "1\n",
      "2\n",
      "3\n",
      "4\n",
      "5\n",
      "break 못만남\n"
     ]
    }
   ],
   "source": [
    "for i in range(6):\n",
    "    if i > 100:\n",
    "        break\n",
    "    print(i)\n",
    "else:\n",
    "    print('break 못만남')"
   ]
  },
  {
   "cell_type": "code",
   "execution_count": 60,
   "id": "b707550f-2c42-4198-9b5d-f5e73557644d",
   "metadata": {},
   "outputs": [
    {
     "name": "stdout",
     "output_type": "stream",
     "text": [
      "0\n",
      "1\n",
      "2\n",
      "3\n"
     ]
    }
   ],
   "source": [
    "# 반복문이 다 진행되지 않으면 else 실행되지 않는다.\n",
    "for i in range(6):\n",
    "    if i > 3:\n",
    "        break\n",
    "    print(i)\n",
    "else:\n",
    "    print('break 못만남')"
   ]
  },
  {
   "cell_type": "code",
   "execution_count": 61,
   "id": "aec97a2a-200a-4974-88a2-c9444a5fc25a",
   "metadata": {},
   "outputs": [
    {
     "name": "stdout",
     "output_type": "stream",
     "text": [
      "1\n",
      "3\n",
      "True\n"
     ]
    }
   ],
   "source": [
    "numbers = [1, 3, 5, 7, 9]\n",
    "target = 5\n",
    "\n",
    "for num in numbers:\n",
    "    if num == target:\n",
    "        print('True')\n",
    "        break\n",
    "    print(num)\n",
    "else:\n",
    "    print('Target 못찾음')"
   ]
  },
  {
   "cell_type": "markdown",
   "id": "d531fb74-6953-4e63-9250-2b5299fb16de",
   "metadata": {},
   "source": [
    "### match\n",
    "\n",
    "```python\n",
    "match value:\n",
    "    case 조건:\n",
    "        code\n",
    "    case 조건:\n",
    "        code\n",
    "    case _:\n",
    "        code\n",
    "```"
   ]
  },
  {
   "cell_type": "code",
   "execution_count": 62,
   "id": "649429cb-94ee-4150-8f72-9212aaf17813",
   "metadata": {},
   "outputs": [
    {
     "name": "stdout",
     "output_type": "stream",
     "text": [
      "someting is wrong\n"
     ]
    }
   ],
   "source": [
    "status = 100 \n",
    "\n",
    "match status:\n",
    "    case 400:\n",
    "        print('Bad request')\n",
    "    case 404:\n",
    "        print('Not found')\n",
    "    case _:\n",
    "        print('someting is wrong')"
   ]
  }
 ],
 "metadata": {
  "kernelspec": {
   "display_name": "Python 3 (ipykernel)",
   "language": "python",
   "name": "python3"
  },
  "language_info": {
   "codemirror_mode": {
    "name": "ipython",
    "version": 3
   },
   "file_extension": ".py",
   "mimetype": "text/x-python",
   "name": "python",
   "nbconvert_exporter": "python",
   "pygments_lexer": "ipython3",
   "version": "3.11.4"
  }
 },
 "nbformat": 4,
 "nbformat_minor": 5
}
