{
 "cells": [
  {
   "cell_type": "markdown",
   "id": "489b1354-901e-458a-be92-382cd8e7a08d",
   "metadata": {},
   "source": [
    "## 함수의 선언과 호출\n",
    "\n",
    "- 함수의 선언\n",
    "```python\n",
    "def func_name(parameter1, parameter2...):\n",
    "    code1\n",
    "    code2\n",
    "    ...\n",
    "    return value\n",
    "```\n",
    "- 함수의 호출(실행)\n",
    "```python\n",
    "func_name(parameter1, parameter2)\n",
    "```"
   ]
  },
  {
   "cell_type": "code",
   "execution_count": 1,
   "id": "dc750571-48a2-48af-9141-13974ab73b57",
   "metadata": {},
   "outputs": [],
   "source": [
    "# 두개의 정수를 받아서 큰 수를 출력\n",
    "def my_max(num1, num2):\n",
    "    if num1 > num2:\n",
    "        print(num1)\n",
    "    elif num1 < num2:\n",
    "        print(num2)\n",
    "    else:\n",
    "        print('두 수가 같습니다.')"
   ]
  },
  {
   "cell_type": "code",
   "execution_count": 4,
   "id": "6ae94366-2b18-4785-a7a2-dc5095e4f125",
   "metadata": {},
   "outputs": [
    {
     "name": "stdout",
     "output_type": "stream",
     "text": [
      "10\n",
      "None\n"
     ]
    }
   ],
   "source": [
    "# 함수의 return 값 X\n",
    "\n",
    "result = my_max(1,10)\n",
    "print(result)"
   ]
  },
  {
   "cell_type": "markdown",
   "id": "fd9651ee-526a-4704-b220-04d1a268e6d6",
   "metadata": {},
   "source": [
    "## 함수의 return\n",
    "- 함수가 return을 만나면 해당 값을 반환하고 함수를 종료\n",
    "- 만약 return이 없다면 None을 자동으로 반환\n",
    "- return은 오직 하나의 객체만 반환"
   ]
  },
  {
   "cell_type": "code",
   "execution_count": 5,
   "id": "c162556d-f780-47f9-8fae-ba06aaa1a700",
   "metadata": {},
   "outputs": [],
   "source": [
    "# 두개의 정수를 받아서 큰 수를 반환\n",
    "def my_max2(num1, num2):\n",
    "    if num1 > num2:\n",
    "        return num1\n",
    "    elif num1 < num2:\n",
    "        return num2\n",
    "    else:\n",
    "        return 0"
   ]
  },
  {
   "cell_type": "code",
   "execution_count": 6,
   "id": "88cc4c2e-5c91-4662-bfdb-6d70afee1148",
   "metadata": {},
   "outputs": [
    {
     "name": "stdout",
     "output_type": "stream",
     "text": [
      "2가 더 큽니다.\n"
     ]
    }
   ],
   "source": [
    "result = my_max2(1,2)\n",
    "print(f'{result}가 더 큽니다.')"
   ]
  },
  {
   "cell_type": "code",
   "execution_count": 7,
   "id": "39538c1c-591e-428c-bffa-00bc8aa028de",
   "metadata": {},
   "outputs": [],
   "source": [
    "# 합이 더 큰 리스트 반환\n",
    "def my_list_max(list_a, list_b):\n",
    "    if sum(list_a) > sum(list_b):\n",
    "        return list_a\n",
    "    else:\n",
    "        return list_b"
   ]
  },
  {
   "cell_type": "code",
   "execution_count": 8,
   "id": "7a1acba0-2c7e-43fa-97d5-3d17b9026b88",
   "metadata": {},
   "outputs": [
    {
     "data": {
      "text/plain": [
       "[11, 12]"
      ]
     },
     "execution_count": 8,
     "metadata": {},
     "output_type": "execute_result"
    }
   ],
   "source": [
    "my_list_max([10,11], [11,12])"
   ]
  },
  {
   "cell_type": "markdown",
   "id": "caff7f90-6ffc-4038-865f-766cb0936352",
   "metadata": {},
   "source": [
    "## 함수의 인수\n",
    "\n",
    "### 위치인수 \n",
    "\n",
    "기본적으로 함수는 인수의 위치로 판단"
   ]
  },
  {
   "cell_type": "code",
   "execution_count": 9,
   "id": "ddb1066e-359c-4e2e-a343-2e637ea72064",
   "metadata": {},
   "outputs": [
    {
     "name": "stdout",
     "output_type": "stream",
     "text": [
      "1570.0\n",
      "785.0\n"
     ]
    }
   ],
   "source": [
    "def cylinder(r, h):\n",
    "    return 3.14 * r**2 * h\n",
    "\n",
    "print(cylinder(10, 5))\n",
    "print(cylinder(5, 10))"
   ]
  },
  {
   "cell_type": "markdown",
   "id": "f4ed712d-efe1-4f3d-bc94-fbca18f61012",
   "metadata": {},
   "source": [
    "### 기본값\n",
    "```python\n",
    "def func(p1 = v1)\n",
    "    return v1\n",
    "```"
   ]
  },
  {
   "cell_type": "code",
   "execution_count": 10,
   "id": "30766610-3de5-4fc9-80f7-43e672fd5da5",
   "metadata": {},
   "outputs": [
    {
     "name": "stdout",
     "output_type": "stream",
     "text": [
      "승욱님 반갑습니다.\n",
      "익명님 반갑습니다.\n"
     ]
    }
   ],
   "source": [
    "def greeting(name='익명'):\n",
    "    return f'{name}님 반갑습니다.'\n",
    "\n",
    "print(greeting('승욱'))\n",
    "print(greeting())         # 아무값도 넣지 않고 함수를 호출할 때 기본값을 사용"
   ]
  },
  {
   "cell_type": "code",
   "execution_count": 11,
   "id": "436c67a8-fd72-4e0b-bb81-f28f7a38e37a",
   "metadata": {},
   "outputs": [
    {
     "ename": "SyntaxError",
     "evalue": "non-default argument follows default argument (3086438944.py, line 3)",
     "output_type": "error",
     "traceback": [
      "\u001b[1;36m  Cell \u001b[1;32mIn[11], line 3\u001b[1;36m\u001b[0m\n\u001b[1;33m    def greeting(name='익명', age):\u001b[0m\n\u001b[1;37m                            ^\u001b[0m\n\u001b[1;31mSyntaxError\u001b[0m\u001b[1;31m:\u001b[0m non-default argument follows default argument\n"
     ]
    }
   ],
   "source": [
    "# 기본인자를 앞에 사용할 때 에러\n",
    "\n",
    "def greeting(name='익명', age):\n",
    "    return f'{name}님은 {age}살입니다.'"
   ]
  },
  {
   "cell_type": "code",
   "execution_count": 12,
   "id": "f9f6e27f-c497-4c00-89c5-f7a676730619",
   "metadata": {},
   "outputs": [
    {
     "name": "stdout",
     "output_type": "stream",
     "text": [
      "홍길동님은 10살입니다.\n",
      "익명님은 20살입니다.\n"
     ]
    }
   ],
   "source": [
    "# 기본인자를 사용할 때 뒤에 사용\n",
    "def greeting(age, name='익명'):\n",
    "    return f'{name}님은 {age}살입니다.'\n",
    "\n",
    "print(greeting(10, '홍길동'))\n",
    "print(greeting(20))"
   ]
  },
  {
   "cell_type": "markdown",
   "id": "369ca068-e3fd-443d-bc2f-580046afdad2",
   "metadata": {},
   "source": [
    "### 키워드 인자\n",
    "함수를 호출(실행)할 때 내가 원하는 위치에 직접적으로 특정인자를 전달가능"
   ]
  },
  {
   "cell_type": "code",
   "execution_count": 13,
   "id": "4816813a-febf-4300-aacf-63d6350fc078",
   "metadata": {},
   "outputs": [
    {
     "name": "stdout",
     "output_type": "stream",
     "text": [
      "홍길동님은 10살입니다.\n",
      "홍길동님은 10살입니다.\n"
     ]
    }
   ],
   "source": [
    "def greeting(age, name='익명'):\n",
    "    return f'{name}님은 {age}살입니다.'\n",
    "\n",
    "print(greeting(10, '홍길동'))\n",
    "print(greeting(name='홍길동', age=10))"
   ]
  },
  {
   "cell_type": "code",
   "execution_count": 14,
   "id": "3829e22a-b007-4310-8b80-d342777d53c9",
   "metadata": {},
   "outputs": [
    {
     "name": "stdout",
     "output_type": "stream",
     "text": [
      "안녕\n",
      "안녕!하세요?"
     ]
    }
   ],
   "source": [
    "# 공백에 ! , 문장 끝에 ?\n",
    "print('안녕')\n",
    "print('안녕', '하세요', sep='!', end='?')"
   ]
  },
  {
   "cell_type": "markdown",
   "id": "de9b0c9f-7a4b-4ae8-ad6d-f25817e1210c",
   "metadata": {},
   "source": [
    "### 가변 인자 리스트\n",
    "```python\n",
    "def func(*params)\n",
    "    pass\n",
    "```"
   ]
  },
  {
   "cell_type": "code",
   "execution_count": 16,
   "id": "e874ad3c-74fe-401c-81f1-556521cf6996",
   "metadata": {},
   "outputs": [
    {
     "name": "stdout",
     "output_type": "stream",
     "text": [
      "('hi', 'hello', '안녕', '하세요')\n",
      "<class 'tuple'>\n"
     ]
    }
   ],
   "source": [
    "## 들어오는 데이터를 튜플로 처리 \n",
    "\n",
    "def my_print(*words):\n",
    "    print(words)\n",
    "    print(type(words))\n",
    "\n",
    "my_print('hi', 'hello', '안녕', '하세요')"
   ]
  },
  {
   "cell_type": "code",
   "execution_count": 17,
   "id": "6972ded1-a2a8-4257-8b62-ae3b07614a77",
   "metadata": {},
   "outputs": [],
   "source": [
    "def my_max(*numbers):\n",
    "    result = numbers[0]\n",
    "\n",
    "    for number in numbers:\n",
    "        if result < number:\n",
    "            result = number\n",
    "            \n",
    "    return result"
   ]
  },
  {
   "cell_type": "code",
   "execution_count": 18,
   "id": "1954ab63-75c2-4a22-8fcb-1d9717f4a029",
   "metadata": {},
   "outputs": [
    {
     "name": "stdout",
     "output_type": "stream",
     "text": [
      "5\n",
      "-1\n"
     ]
    }
   ],
   "source": [
    "print(my_max(1, 2, 3, 4, 5))\n",
    "print(my_max(-1, -2, -3, -4, -5))"
   ]
  },
  {
   "cell_type": "markdown",
   "id": "328f3caa-9503-444d-959f-c6722675a758",
   "metadata": {},
   "source": [
    "### 정의되지 않은 키워드 인자 처리하기\n",
    "```python\n",
    "def func(**kwargs)\n",
    "    pass\n",
    "```"
   ]
  },
  {
   "cell_type": "code",
   "execution_count": 19,
   "id": "8357351d-9ef4-420d-9f7a-afab64c2cb4b",
   "metadata": {},
   "outputs": [
    {
     "name": "stdout",
     "output_type": "stream",
     "text": [
      "{'name': 'hong', 'age': 20}\n"
     ]
    }
   ],
   "source": [
    "info = {\n",
    "    'name': 'hong',\n",
    "    'age': 20\n",
    "}\n",
    "\n",
    "print(info)"
   ]
  },
  {
   "cell_type": "code",
   "execution_count": 21,
   "id": "b0e1a97d-d0a4-4335-a6ec-5d0fa17dbcc7",
   "metadata": {},
   "outputs": [
    {
     "name": "stdout",
     "output_type": "stream",
     "text": [
      "{'name': 'hong', 'age': 20, 'asdf': 1234}\n"
     ]
    }
   ],
   "source": [
    "# dict 함수로 딕셔너리 생성\n",
    "info = dict(name='hong', age=20, asdf=1234)\n",
    "print(info)"
   ]
  },
  {
   "cell_type": "code",
   "execution_count": 22,
   "id": "026ee247-9baf-4158-891f-facb97de7b4d",
   "metadata": {},
   "outputs": [
    {
     "name": "stdout",
     "output_type": "stream",
     "text": [
      "korean는 안녕입니다.\n",
      "english는 hello입니다.\n"
     ]
    }
   ],
   "source": [
    "def fake_dick(**kwargs):\n",
    "    for key, value in kwargs.items():\n",
    "        print(f'{key}는 {value}입니다.')\n",
    "        \n",
    "fake_dick(korean='안녕', english='hello')"
   ]
  },
  {
   "cell_type": "markdown",
   "id": "30e122ae-0fe7-4890-9d06-011d450dca72",
   "metadata": {},
   "source": [
    "### 딕셔너리를 인자로 넣기(unpacking)"
   ]
  },
  {
   "cell_type": "code",
   "execution_count": 25,
   "id": "84161920-ebf6-4d26-8c65-4b264201d593",
   "metadata": {},
   "outputs": [
    {
     "name": "stdout",
     "output_type": "stream",
     "text": [
      "jsw님 회원가입이 완료되었습니다.\n"
     ]
    }
   ],
   "source": [
    "# 회원가입 함수 선언\n",
    "\n",
    "def sign_up(username, password, password_confirmation):\n",
    "    if password == password_confirmation:\n",
    "        print(f'{username}님 회원가입이 완료되었습니다.')\n",
    "    else:\n",
    "        print('비밀번호가 일치하지 않습니다.')\n",
    "sign_up('jsw', 'qwer', 'qwer')"
   ]
  },
  {
   "cell_type": "code",
   "execution_count": 26,
   "id": "72ed3ab0-e10c-48ee-bf7f-b9722e491d8d",
   "metadata": {},
   "outputs": [
    {
     "name": "stdout",
     "output_type": "stream",
     "text": [
      "asdf1234님 회원가입이 완료되었습니다.\n"
     ]
    }
   ],
   "source": [
    "# 함수의 인자로 딕셔너리 사용\n",
    "\n",
    "my_account = {\n",
    "    'username': 'asdf1234',\n",
    "    'password': 'qwer1234',\n",
    "    'password_confirmation': 'qwer1234',\n",
    "}\n",
    "\n",
    "sign_up(**my_account)"
   ]
  },
  {
   "cell_type": "markdown",
   "id": "62dae626-9ae8-4d24-9410-b3c3cd945137",
   "metadata": {},
   "source": [
    "### lambda 표현신ㄱ\n",
    "```python\n",
    "lambda parameter: expression\n",
    "```"
   ]
  },
  {
   "cell_type": "code",
   "execution_count": 27,
   "id": "501a3fd9-bc28-47df-8e77-2b44bdb700fd",
   "metadata": {},
   "outputs": [
    {
     "data": {
      "text/plain": [
       "3"
      ]
     },
     "execution_count": 27,
     "metadata": {},
     "output_type": "execute_result"
    }
   ],
   "source": [
    "(lambda a, b: a + b)(1, 2)"
   ]
  },
  {
   "cell_type": "markdown",
   "id": "c5d86383-c01c-48f3-9c85-7fc8b0ffef0b",
   "metadata": {},
   "source": [
    "### 타입 힌트"
   ]
  },
  {
   "cell_type": "code",
   "execution_count": 29,
   "id": "c10bcdcc-a28c-42fb-8044-d21e4707e3c0",
   "metadata": {},
   "outputs": [
    {
     "data": {
      "text/plain": [
       "3"
      ]
     },
     "execution_count": 29,
     "metadata": {},
     "output_type": "execute_result"
    }
   ],
   "source": [
    "# 함수 인자와 결과의 타입 표시\n",
    "\n",
    "def my_sum(num1: int, num2: int) -> int:\n",
    "    return num1 + num2\n",
    "\n",
    "my_sum(1, 2)"
   ]
  },
  {
   "cell_type": "markdown",
   "id": "616b2bd7-709e-4bf0-8f3b-05d424aef4b5",
   "metadata": {},
   "source": [
    "### 이름공간 (scope)\n",
    "파이썬에서 사용되는 이름들은 이름공간(namespace)에 저장되어있습니다.\n",
    "- Local scope: 정의된 함수 내부\n",
    "- Enclosed scope: 상위 함수\n",
    "- Global scope: 함수 밖의 변수 혹은 import된 모듈\n",
    "- Built-in scope: 파이썬이 기본적으로 가지고 있는 함수 혹은 변수"
   ]
  },
  {
   "cell_type": "code",
   "execution_count": 30,
   "id": "5484d77e-2997-475a-96a0-71cff4377359",
   "metadata": {},
   "outputs": [
    {
     "name": "stdout",
     "output_type": "stream",
     "text": [
      "123\n"
     ]
    }
   ],
   "source": [
    "str = '123'\n",
    "print(str)"
   ]
  },
  {
   "cell_type": "code",
   "execution_count": 33,
   "id": "5a446b6d-5163-4a95-b835-56a85e36a0d7",
   "metadata": {},
   "outputs": [
    {
     "ename": "TypeError",
     "evalue": "'str' object is not callable",
     "output_type": "error",
     "traceback": [
      "\u001b[1;31m---------------------------------------------------------------------------\u001b[0m",
      "\u001b[1;31mTypeError\u001b[0m                                 Traceback (most recent call last)",
      "Cell \u001b[1;32mIn[33], line 4\u001b[0m\n\u001b[0;32m      1\u001b[0m \u001b[38;5;66;03m# Local scope에 변수를 선언해서 \u001b[39;00m\n\u001b[0;32m      2\u001b[0m \u001b[38;5;66;03m# Built-in scope 함수 사용 에러\u001b[39;00m\n\u001b[1;32m----> 4\u001b[0m \u001b[38;5;28;43mstr\u001b[39;49m\u001b[43m(\u001b[49m\u001b[38;5;241;43m789\u001b[39;49m\u001b[43m)\u001b[49m\n",
      "\u001b[1;31mTypeError\u001b[0m: 'str' object is not callable"
     ]
    }
   ],
   "source": [
    "# Local scope에 변수를 선언해서 \n",
    "# Built-in scope 함수 사용 에러\n",
    "\n",
    "str(789)"
   ]
  },
  {
   "cell_type": "code",
   "execution_count": 34,
   "id": "00f16232-e4dd-4bb7-bcf1-869de259310d",
   "metadata": {},
   "outputs": [],
   "source": [
    "del str"
   ]
  },
  {
   "cell_type": "code",
   "execution_count": 36,
   "id": "4fc2b96b-e25f-4290-a808-eedc612c01ed",
   "metadata": {},
   "outputs": [
    {
     "name": "stdout",
     "output_type": "stream",
     "text": [
      "5\n"
     ]
    }
   ],
   "source": [
    "# 함수 내부의 Local scope 먼저 실행\n",
    "a =1 \n",
    "def localscope(a):\n",
    "    print(a)\n",
    "\n",
    "localscope(5)"
   ]
  },
  {
   "cell_type": "code",
   "execution_count": 38,
   "id": "45f52fb4-f5cc-46ab-911e-6ec6623295bf",
   "metadata": {},
   "outputs": [
    {
     "name": "stdout",
     "output_type": "stream",
     "text": [
      "20\n",
      "20\n"
     ]
    }
   ],
   "source": [
    "# global 키워드로 전역에 있는 변수 사용\n",
    "\n",
    "num = 10\n",
    "def scope():\n",
    "    global num\n",
    "    num = 20\n",
    "    print(num)\n",
    "\n",
    "scope()\n",
    "print(num)"
   ]
  },
  {
   "cell_type": "markdown",
   "id": "a803de1a-b0f6-4c68-9c56-48d34259098d",
   "metadata": {},
   "source": [
    "### 재귀 (recursive)\n",
    "재귀 함수는 함수 내부에서 자기 자신을 호출하는 함수를 의미한다."
   ]
  },
  {
   "cell_type": "code",
   "execution_count": 39,
   "id": "e6ad357b-8c30-4de3-9596-188a9e7d977e",
   "metadata": {},
   "outputs": [
    {
     "data": {
      "text/plain": [
       "720"
      ]
     },
     "execution_count": 39,
     "metadata": {},
     "output_type": "execute_result"
    }
   ],
   "source": [
    "# 팩토리얼\n",
    "def fact(n):\n",
    "    result = 1\n",
    "    while n > 0:\n",
    "        result *= n\n",
    "        n -= 1\n",
    "    return result\n",
    "\n",
    "fact(6)"
   ]
  },
  {
   "cell_type": "code",
   "execution_count": 40,
   "id": "57ed6fdc-5243-494a-bc47-657af3ea48c4",
   "metadata": {},
   "outputs": [
    {
     "data": {
      "text/plain": [
       "120"
      ]
     },
     "execution_count": 40,
     "metadata": {},
     "output_type": "execute_result"
    }
   ],
   "source": [
    "# 팩토리얼 - 재귀\n",
    "def factorial(n):\n",
    "    if n <= 1:\n",
    "        return 1\n",
    "    else:\n",
    "        return factorial(n-1) * n    # 10! = 9! * 10\n",
    "\n",
    "factorial(5)"
   ]
  },
  {
   "cell_type": "markdown",
   "id": "1487184a-e833-4711-850a-d652aedb516b",
   "metadata": {},
   "source": [
    "### 피보나치 수열\n",
    "```\n",
    "F(0) = F(1) = 1\n",
    "F(n) = F(n-1) + F(n-2)\n",
    "```"
   ]
  },
  {
   "cell_type": "code",
   "execution_count": 44,
   "id": "a10a12d8-7117-4270-8a9d-a985e4e44f60",
   "metadata": {},
   "outputs": [
    {
     "data": {
      "text/plain": [
       "13"
      ]
     },
     "execution_count": 44,
     "metadata": {},
     "output_type": "execute_result"
    }
   ],
   "source": [
    "# 반복문\n",
    "\n",
    "def fib_loop(n):\n",
    "    result = [1, 1]\n",
    "\n",
    "    for i in range(1, n):\n",
    "        end1 = result[-1]                    # 리스트 뒤에서 접근\n",
    "        end2 = result[len(result) - 2]       # 리스트 앞에서 접근할 때\n",
    "        fib_num = end1 + end2\n",
    "\n",
    "        result.append(fib_num)\n",
    "        \n",
    "    return result[-1]\n",
    "\n",
    "fib_loop(6)"
   ]
  },
  {
   "cell_type": "code",
   "execution_count": 43,
   "id": "37593f6f-30da-4fb9-b78f-321fc42255f2",
   "metadata": {},
   "outputs": [
    {
     "data": {
      "text/plain": [
       "13"
      ]
     },
     "execution_count": 43,
     "metadata": {},
     "output_type": "execute_result"
    }
   ],
   "source": [
    "# 재귀\n",
    "\n",
    "def fib_rec(n):\n",
    "    if n == 0 or n == 1:\n",
    "        return 1\n",
    "    else:\n",
    "        return fib_rec(n-2) + fib_rec(n-1)\n",
    "\n",
    "fib_rec(6)"
   ]
  },
  {
   "cell_type": "code",
   "execution_count": null,
   "id": "58f0018b-42b9-4465-b48c-a2a2f906e77f",
   "metadata": {},
   "outputs": [],
   "source": []
  }
 ],
 "metadata": {
  "kernelspec": {
   "display_name": "Python 3 (ipykernel)",
   "language": "python",
   "name": "python3"
  },
  "language_info": {
   "codemirror_mode": {
    "name": "ipython",
    "version": 3
   },
   "file_extension": ".py",
   "mimetype": "text/x-python",
   "name": "python",
   "nbconvert_exporter": "python",
   "pygments_lexer": "ipython3",
   "version": "3.11.4"
  }
 },
 "nbformat": 4,
 "nbformat_minor": 5
}
